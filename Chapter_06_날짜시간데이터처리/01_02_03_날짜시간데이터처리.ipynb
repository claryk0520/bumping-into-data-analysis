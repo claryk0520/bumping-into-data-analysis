{
 "cells": [
  {
   "cell_type": "code",
   "execution_count": 1,
   "metadata": {},
   "outputs": [],
   "source": [
    "import pandas as pd\n",
    "import numpy as np\n",
    "import seaborn as sns"
   ]
  },
  {
   "cell_type": "code",
   "execution_count": 2,
   "metadata": {},
   "outputs": [],
   "source": [
    "import datetime"
   ]
  },
  {
   "cell_type": "code",
   "execution_count": 3,
   "metadata": {},
   "outputs": [
    {
     "data": {
      "text/plain": [
       "datetime.date(2022, 9, 18)"
      ]
     },
     "execution_count": 3,
     "metadata": {},
     "output_type": "execute_result"
    }
   ],
   "source": [
    "datetime.date.today()"
   ]
  },
  {
   "cell_type": "code",
   "execution_count": 5,
   "metadata": {},
   "outputs": [
    {
     "data": {
      "text/plain": [
       "(2022, 8, 19)"
      ]
     },
     "execution_count": 5,
     "metadata": {},
     "output_type": "execute_result"
    }
   ],
   "source": [
    "today = datetime.date(2022, 8, 19)\n",
    "today.year, today.month, today.day"
   ]
  },
  {
   "cell_type": "code",
   "execution_count": 6,
   "metadata": {},
   "outputs": [],
   "source": [
    "delta = datetime.datetime(2022, 8, 19) - datetime.datetime(2011,3, 20, 7, 12)"
   ]
  },
  {
   "cell_type": "code",
   "execution_count": 7,
   "metadata": {},
   "outputs": [
    {
     "name": "stdout",
     "output_type": "stream",
     "text": [
      "4169 days, 16:48:00\n",
      "4169\n",
      "60480\n"
     ]
    }
   ],
   "source": [
    "print(delta)\n",
    "print(delta.days)\n",
    "print(delta.seconds)"
   ]
  },
  {
   "cell_type": "code",
   "execution_count": 4,
   "metadata": {},
   "outputs": [],
   "source": [
    "dates = [pd.Timestamp(\"2021-12-01\"),\n",
    "         pd.Timestamp(\"2021-12-02\"),\n",
    "         pd.Timestamp(\"2021-12-03\")]\n",
    "\n",
    "ts = pd.Series(np.random.randn(3), dates)"
   ]
  },
  {
   "cell_type": "code",
   "execution_count": 5,
   "metadata": {},
   "outputs": [
    {
     "data": {
      "text/plain": [
       "DatetimeIndex(['2021-12-01', '2021-12-02', '2021-12-03'], dtype='datetime64[ns]', freq=None)"
      ]
     },
     "execution_count": 5,
     "metadata": {},
     "output_type": "execute_result"
    }
   ],
   "source": [
    "ts.index"
   ]
  },
  {
   "cell_type": "code",
   "execution_count": 6,
   "metadata": {},
   "outputs": [
    {
     "data": {
      "text/plain": [
       "2021-12-01   -0.305565\n",
       "2021-12-02    0.548434\n",
       "2021-12-03   -0.800754\n",
       "dtype: float64"
      ]
     },
     "execution_count": 6,
     "metadata": {},
     "output_type": "execute_result"
    }
   ],
   "source": [
    "ts"
   ]
  },
  {
   "cell_type": "code",
   "execution_count": 8,
   "metadata": {},
   "outputs": [],
   "source": [
    "periods = [pd.Period(\"2021-12\"), pd.Period(\"2021-01\"), pd.Period(\"2022-02\")]\n",
    "ts = pd.Series(np.random.randn(3), periods)"
   ]
  },
  {
   "cell_type": "code",
   "execution_count": 9,
   "metadata": {},
   "outputs": [
    {
     "data": {
      "text/plain": [
       "PeriodIndex(['2021-12', '2021-01', '2022-02'], dtype='period[M]')"
      ]
     },
     "execution_count": 9,
     "metadata": {},
     "output_type": "execute_result"
    }
   ],
   "source": [
    "ts.index"
   ]
  },
  {
   "cell_type": "code",
   "execution_count": 5,
   "metadata": {},
   "outputs": [
    {
     "data": {
      "text/plain": [
       "2021-12    1.199820\n",
       "2021-01   -1.897174\n",
       "2022-02   -0.355545\n",
       "Freq: M, dtype: float64"
      ]
     },
     "execution_count": 5,
     "metadata": {},
     "output_type": "execute_result"
    }
   ],
   "source": [
    "ts"
   ]
  },
  {
   "cell_type": "code",
   "execution_count": 14,
   "metadata": {},
   "outputs": [
    {
     "data": {
      "text/plain": [
       "0    May 20, 2021\n",
       "1      2022-03-10\n",
       "2      2022.06.01\n",
       "3      08/12/2022\n",
       "4            None\n",
       "dtype: object"
      ]
     },
     "execution_count": 14,
     "metadata": {},
     "output_type": "execute_result"
    }
   ],
   "source": [
    "pd.Series(['May 20, 2021', '2022-03-10', '2022.06.01', '08/12/2022', None])"
   ]
  },
  {
   "cell_type": "code",
   "execution_count": 16,
   "metadata": {},
   "outputs": [
    {
     "data": {
      "text/plain": [
       "0   2021-05-20\n",
       "1   2022-03-10\n",
       "2   2022-06-01\n",
       "3   2022-08-12\n",
       "4          NaT\n",
       "dtype: datetime64[ns]"
      ]
     },
     "execution_count": 16,
     "metadata": {},
     "output_type": "execute_result"
    }
   ],
   "source": [
    "pd.to_datetime(pd.Series(['May 20, 2021', '2022-03-10', '2022.06.01', '08/12/2022', None]))"
   ]
  },
  {
   "cell_type": "code",
   "execution_count": 25,
   "metadata": {},
   "outputs": [
    {
     "data": {
      "text/plain": [
       "DatetimeIndex(['2022-08-06 12:00:00'], dtype='datetime64[ns]', freq=None)"
      ]
     },
     "execution_count": 25,
     "metadata": {},
     "output_type": "execute_result"
    }
   ],
   "source": [
    "pd.to_datetime(['06-08-2022 12:00'], dayfirst=True)"
   ]
  },
  {
   "cell_type": "code",
   "execution_count": 27,
   "metadata": {},
   "outputs": [
    {
     "data": {
      "text/plain": [
       "DatetimeIndex(['2022-08-06 12:00:00'], dtype='datetime64[ns]', freq=None)"
      ]
     },
     "execution_count": 27,
     "metadata": {},
     "output_type": "execute_result"
    }
   ],
   "source": [
    "pd.to_datetime(['12:00 06-08-2022'], dayfirst=True)"
   ]
  },
  {
   "cell_type": "code",
   "execution_count": 38,
   "metadata": {},
   "outputs": [
    {
     "data": {
      "text/plain": [
       "Timestamp('2022-03-12 00:00:00')"
      ]
     },
     "execution_count": 38,
     "metadata": {},
     "output_type": "execute_result"
    }
   ],
   "source": [
    "pd.to_datetime('2022/03/12', format='%Y/%m/%d')"
   ]
  },
  {
   "cell_type": "code",
   "execution_count": 49,
   "metadata": {},
   "outputs": [
    {
     "data": {
      "text/plain": [
       "Timestamp('2022-12-25 00:00:00')"
      ]
     },
     "execution_count": 49,
     "metadata": {},
     "output_type": "execute_result"
    }
   ],
   "source": [
    "pd.to_datetime('25-Dec-2022 00:00', format=''%d-%b-%Y %H:%M')"
   ]
  },
  {
   "cell_type": "code",
   "execution_count": 64,
   "metadata": {},
   "outputs": [
    {
     "data": {
      "text/html": [
       "<div>\n",
       "<style scoped>\n",
       "    .dataframe tbody tr th:only-of-type {\n",
       "        vertical-align: middle;\n",
       "    }\n",
       "\n",
       "    .dataframe tbody tr th {\n",
       "        vertical-align: top;\n",
       "    }\n",
       "\n",
       "    .dataframe thead th {\n",
       "        text-align: right;\n",
       "    }\n",
       "</style>\n",
       "<table border=\"1\" class=\"dataframe\">\n",
       "  <thead>\n",
       "    <tr style=\"text-align: right;\">\n",
       "      <th></th>\n",
       "      <th>year</th>\n",
       "      <th>month</th>\n",
       "      <th>day</th>\n",
       "      <th>hour</th>\n",
       "    </tr>\n",
       "  </thead>\n",
       "  <tbody>\n",
       "    <tr>\n",
       "      <th>0</th>\n",
       "      <td>2020</td>\n",
       "      <td>2</td>\n",
       "      <td>3</td>\n",
       "      <td>5</td>\n",
       "    </tr>\n",
       "    <tr>\n",
       "      <th>1</th>\n",
       "      <td>2021</td>\n",
       "      <td>3</td>\n",
       "      <td>8</td>\n",
       "      <td>3</td>\n",
       "    </tr>\n",
       "    <tr>\n",
       "      <th>2</th>\n",
       "      <td>2022</td>\n",
       "      <td>9</td>\n",
       "      <td>12</td>\n",
       "      <td>4</td>\n",
       "    </tr>\n",
       "    <tr>\n",
       "      <th>3</th>\n",
       "      <td>2023</td>\n",
       "      <td>10</td>\n",
       "      <td>20</td>\n",
       "      <td>3</td>\n",
       "    </tr>\n",
       "    <tr>\n",
       "      <th>4</th>\n",
       "      <td>2025</td>\n",
       "      <td>11</td>\n",
       "      <td>28</td>\n",
       "      <td>1</td>\n",
       "    </tr>\n",
       "  </tbody>\n",
       "</table>\n",
       "</div>"
      ],
      "text/plain": [
       "   year  month  day  hour\n",
       "0  2020      2    3     5\n",
       "1  2021      3    8     3\n",
       "2  2022      9   12     4\n",
       "3  2023     10   20     3\n",
       "4  2025     11   28     1"
      ]
     },
     "execution_count": 64,
     "metadata": {},
     "output_type": "execute_result"
    }
   ],
   "source": [
    "date = pd.DataFrame(\n",
    "    {'year': [2020, 2021, 2022, 2023, 2025], 'month': [2, 3, 9 , 10, 11], \n",
    "     'day': [3, 8, 12, 20, 28], 'hour': [5, 3, 4, 3, 1]})\n",
    "date"
   ]
  },
  {
   "cell_type": "code",
   "execution_count": 65,
   "metadata": {},
   "outputs": [
    {
     "data": {
      "text/html": [
       "<div>\n",
       "<style scoped>\n",
       "    .dataframe tbody tr th:only-of-type {\n",
       "        vertical-align: middle;\n",
       "    }\n",
       "\n",
       "    .dataframe tbody tr th {\n",
       "        vertical-align: top;\n",
       "    }\n",
       "\n",
       "    .dataframe thead th {\n",
       "        text-align: right;\n",
       "    }\n",
       "</style>\n",
       "<table border=\"1\" class=\"dataframe\">\n",
       "  <thead>\n",
       "    <tr style=\"text-align: right;\">\n",
       "      <th></th>\n",
       "      <th>year</th>\n",
       "      <th>month</th>\n",
       "      <th>day</th>\n",
       "      <th>hour</th>\n",
       "      <th>All</th>\n",
       "    </tr>\n",
       "  </thead>\n",
       "  <tbody>\n",
       "    <tr>\n",
       "      <th>0</th>\n",
       "      <td>2020</td>\n",
       "      <td>2</td>\n",
       "      <td>3</td>\n",
       "      <td>5</td>\n",
       "      <td>2020-02-03 05:00:00</td>\n",
       "    </tr>\n",
       "    <tr>\n",
       "      <th>1</th>\n",
       "      <td>2021</td>\n",
       "      <td>3</td>\n",
       "      <td>8</td>\n",
       "      <td>3</td>\n",
       "      <td>2021-03-08 03:00:00</td>\n",
       "    </tr>\n",
       "    <tr>\n",
       "      <th>2</th>\n",
       "      <td>2022</td>\n",
       "      <td>9</td>\n",
       "      <td>12</td>\n",
       "      <td>4</td>\n",
       "      <td>2022-09-12 04:00:00</td>\n",
       "    </tr>\n",
       "    <tr>\n",
       "      <th>3</th>\n",
       "      <td>2023</td>\n",
       "      <td>10</td>\n",
       "      <td>20</td>\n",
       "      <td>3</td>\n",
       "      <td>2023-10-20 03:00:00</td>\n",
       "    </tr>\n",
       "    <tr>\n",
       "      <th>4</th>\n",
       "      <td>2025</td>\n",
       "      <td>11</td>\n",
       "      <td>28</td>\n",
       "      <td>1</td>\n",
       "      <td>2025-11-28 01:00:00</td>\n",
       "    </tr>\n",
       "  </tbody>\n",
       "</table>\n",
       "</div>"
      ],
      "text/plain": [
       "   year  month  day  hour                 All\n",
       "0  2020      2    3     5 2020-02-03 05:00:00\n",
       "1  2021      3    8     3 2021-03-08 03:00:00\n",
       "2  2022      9   12     4 2022-09-12 04:00:00\n",
       "3  2023     10   20     3 2023-10-20 03:00:00\n",
       "4  2025     11   28     1 2025-11-28 01:00:00"
      ]
     },
     "execution_count": 65,
     "metadata": {},
     "output_type": "execute_result"
    }
   ],
   "source": [
    "date['All'] = pd.to_datetime(df[['year', 'month', 'day', 'hour']])\n",
    "date"
   ]
  },
  {
   "cell_type": "code",
   "execution_count": 69,
   "metadata": {},
   "outputs": [
    {
     "data": {
      "text/plain": [
       "DatetimeIndex(['2022-02-17', 'NaT'], dtype='datetime64[ns]', freq=None)"
      ]
     },
     "execution_count": 69,
     "metadata": {},
     "output_type": "execute_result"
    }
   ],
   "source": [
    "pd.to_datetime(['2022/02/17', 'no time'], errors='coerce')"
   ]
  },
  {
   "cell_type": "code",
   "execution_count": 5,
   "metadata": {},
   "outputs": [],
   "source": [
    "dates = [datetime.datetime(2022, 7, 1),\n",
    "         datetime.datetime(2022, 7, 2),\n",
    "         datetime.datetime(2022, 7, 3)]\n",
    "\n",
    "index = pd.DatetimeIndex(dates)"
   ]
  },
  {
   "cell_type": "code",
   "execution_count": 6,
   "metadata": {},
   "outputs": [
    {
     "data": {
      "text/plain": [
       "DatetimeIndex(['2022-07-01', '2022-07-02', '2022-07-03'], dtype='datetime64[ns]', freq=None)"
      ]
     },
     "execution_count": 6,
     "metadata": {},
     "output_type": "execute_result"
    }
   ],
   "source": [
    "index"
   ]
  },
  {
   "cell_type": "code",
   "execution_count": 5,
   "metadata": {},
   "outputs": [],
   "source": [
    "start = datetime.datetime(2022, 1, 1)\n",
    "end = datetime.datetime(2023, 1, 1)\n",
    "\n",
    "index = pd.date_range(start, end)"
   ]
  },
  {
   "cell_type": "code",
   "execution_count": 8,
   "metadata": {},
   "outputs": [
    {
     "data": {
      "text/plain": [
       "DatetimeIndex(['2022-01-01', '2022-01-02', '2022-01-03', '2022-01-04',\n",
       "               '2022-01-05', '2022-01-06', '2022-01-07', '2022-01-08',\n",
       "               '2022-01-09', '2022-01-10',\n",
       "               ...\n",
       "               '2022-12-23', '2022-12-24', '2022-12-25', '2022-12-26',\n",
       "               '2022-12-27', '2022-12-28', '2022-12-29', '2022-12-30',\n",
       "               '2022-12-31', '2023-01-01'],\n",
       "              dtype='datetime64[ns]', length=366, freq='D')"
      ]
     },
     "execution_count": 8,
     "metadata": {},
     "output_type": "execute_result"
    }
   ],
   "source": [
    "index "
   ]
  },
  {
   "cell_type": "code",
   "execution_count": 9,
   "metadata": {},
   "outputs": [
    {
     "data": {
      "text/plain": [
       "DatetimeIndex(['2022-01-03', '2022-01-04', '2022-01-05', '2022-01-06',\n",
       "               '2022-01-07', '2022-01-10', '2022-01-11', '2022-01-12',\n",
       "               '2022-01-13', '2022-01-14',\n",
       "               ...\n",
       "               '2022-12-19', '2022-12-20', '2022-12-21', '2022-12-22',\n",
       "               '2022-12-23', '2022-12-26', '2022-12-27', '2022-12-28',\n",
       "               '2022-12-29', '2022-12-30'],\n",
       "              dtype='datetime64[ns]', length=260, freq='B')"
      ]
     },
     "execution_count": 9,
     "metadata": {},
     "output_type": "execute_result"
    }
   ],
   "source": [
    "index = pd.bdate_range(start, end)\n",
    "index"
   ]
  },
  {
   "cell_type": "code",
   "execution_count": 11,
   "metadata": {},
   "outputs": [
    {
     "data": {
      "text/plain": [
       "DatetimeIndex(['2022-01-31', '2022-02-28', '2022-03-31', '2022-04-30',\n",
       "               '2022-05-31', '2022-06-30', '2022-07-31', '2022-08-31',\n",
       "               '2022-09-30', '2022-10-31',\n",
       "               ...\n",
       "               '2037-11-30', '2037-12-31', '2038-01-31', '2038-02-28',\n",
       "               '2038-03-31', '2038-04-30', '2038-05-31', '2038-06-30',\n",
       "               '2038-07-31', '2038-08-31'],\n",
       "              dtype='datetime64[ns]', length=200, freq='M')"
      ]
     },
     "execution_count": 11,
     "metadata": {},
     "output_type": "execute_result"
    }
   ],
   "source": [
    "pd.date_range(start, periods=200, freq='M')"
   ]
  },
  {
   "cell_type": "code",
   "execution_count": 12,
   "metadata": {},
   "outputs": [
    {
     "data": {
      "text/plain": [
       "DatetimeIndex(['2022-01-03', '2022-04-01', '2022-07-01', '2022-10-03',\n",
       "               '2023-01-02', '2023-04-03', '2023-07-03', '2023-10-02',\n",
       "               '2024-01-01', '2024-04-01',\n",
       "               ...\n",
       "               '2094-07-01', '2094-10-01', '2095-01-03', '2095-04-01',\n",
       "               '2095-07-01', '2095-10-03', '2096-01-02', '2096-04-02',\n",
       "               '2096-07-02', '2096-10-01'],\n",
       "              dtype='datetime64[ns]', length=300, freq='BQS-JAN')"
      ]
     },
     "execution_count": 12,
     "metadata": {},
     "output_type": "execute_result"
    }
   ],
   "source": [
    "pd.bdate_range(start, periods=300, freq='BQS')"
   ]
  },
  {
   "cell_type": "code",
   "execution_count": 13,
   "metadata": {},
   "outputs": [
    {
     "data": {
      "text/plain": [
       "DatetimeIndex(['2022-01-01 00:00:00', '2022-01-01 06:00:00',\n",
       "               '2022-01-01 12:00:00', '2022-01-01 18:00:00',\n",
       "               '2022-01-02 00:00:00', '2022-01-02 06:00:00',\n",
       "               '2022-01-02 12:00:00', '2022-01-02 18:00:00',\n",
       "               '2022-01-03 00:00:00', '2022-01-03 06:00:00'],\n",
       "              dtype='datetime64[ns]', freq='6H')"
      ]
     },
     "execution_count": 13,
     "metadata": {},
     "output_type": "execute_result"
    }
   ],
   "source": [
    "pd.date_range(start, periods=10, freq='6H')"
   ]
  },
  {
   "cell_type": "code",
   "execution_count": 6,
   "metadata": {},
   "outputs": [],
   "source": [
    "date = pd.date_range(start, end, freq='BM')\n",
    "time_series = pd.Series(np.random.randn(len(date)), index=date)"
   ]
  },
  {
   "cell_type": "code",
   "execution_count": 7,
   "metadata": {},
   "outputs": [
    {
     "data": {
      "text/plain": [
       "DatetimeIndex(['2022-01-31', '2022-02-28', '2022-03-31', '2022-04-29',\n",
       "               '2022-05-31', '2022-06-30', '2022-07-29', '2022-08-31',\n",
       "               '2022-09-30', '2022-10-31', '2022-11-30', '2022-12-30'],\n",
       "              dtype='datetime64[ns]', freq='BM')"
      ]
     },
     "execution_count": 7,
     "metadata": {},
     "output_type": "execute_result"
    }
   ],
   "source": [
    "time_series.index"
   ]
  },
  {
   "cell_type": "code",
   "execution_count": 8,
   "metadata": {},
   "outputs": [
    {
     "data": {
      "text/plain": [
       "DatetimeIndex(['2022-01-31', '2022-02-28', '2022-03-31', '2022-04-29',\n",
       "               '2022-05-31'],\n",
       "              dtype='datetime64[ns]', freq='BM')"
      ]
     },
     "execution_count": 8,
     "metadata": {},
     "output_type": "execute_result"
    }
   ],
   "source": [
    "time_series[:5].index"
   ]
  },
  {
   "cell_type": "code",
   "execution_count": 9,
   "metadata": {},
   "outputs": [
    {
     "data": {
      "text/plain": [
       "DatetimeIndex(['2022-01-31', '2022-03-31', '2022-05-31', '2022-07-29',\n",
       "               '2022-09-30', '2022-11-30'],\n",
       "              dtype='datetime64[ns]', freq='2BM')"
      ]
     },
     "execution_count": 9,
     "metadata": {},
     "output_type": "execute_result"
    }
   ],
   "source": [
    "time_series[::2].index"
   ]
  },
  {
   "cell_type": "code",
   "execution_count": 3,
   "metadata": {},
   "outputs": [],
   "source": [
    "start = datetime.datetime(2022, 1, 1)\n",
    "end = datetime.datetime(2023, 1, 1)\n",
    "date = pd.date_range(start, end, freq='T')\n",
    "time_series = pd.Series(np.random.randn(len(date)), index=date)"
   ]
  },
  {
   "cell_type": "code",
   "execution_count": 4,
   "metadata": {},
   "outputs": [
    {
     "data": {
      "text/plain": [
       "2022-01-01 00:00:00   -0.656222\n",
       "2022-01-01 00:01:00   -0.630382\n",
       "2022-01-01 00:02:00   -0.136456\n",
       "2022-01-01 00:03:00   -2.069073\n",
       "2022-01-01 00:04:00   -0.521989\n",
       "                         ...   \n",
       "2022-12-31 23:56:00   -0.183773\n",
       "2022-12-31 23:57:00    0.173342\n",
       "2022-12-31 23:58:00   -1.731085\n",
       "2022-12-31 23:59:00    0.439377\n",
       "2023-01-01 00:00:00   -0.048831\n",
       "Freq: T, Length: 525601, dtype: float64"
      ]
     },
     "execution_count": 4,
     "metadata": {},
     "output_type": "execute_result"
    }
   ],
   "source": [
    "time_series"
   ]
  },
  {
   "cell_type": "code",
   "execution_count": 4,
   "metadata": {},
   "outputs": [
    {
     "data": {
      "text/plain": [
       "2022-03-01 00:00:00    0.542068\n",
       "2022-03-01 00:01:00    0.592895\n",
       "2022-03-01 00:02:00    0.194921\n",
       "2022-03-01 00:03:00    1.031994\n",
       "2022-03-01 00:04:00    1.903584\n",
       "                         ...   \n",
       "2022-03-01 23:55:00    1.114991\n",
       "2022-03-01 23:56:00   -0.105563\n",
       "2022-03-01 23:57:00    0.757695\n",
       "2022-03-01 23:58:00   -0.995502\n",
       "2022-03-01 23:59:00   -1.812941\n",
       "Freq: T, Length: 1440, dtype: float64"
      ]
     },
     "execution_count": 4,
     "metadata": {},
     "output_type": "execute_result"
    }
   ],
   "source": [
    "time_series['3/1/2022']"
   ]
  },
  {
   "cell_type": "code",
   "execution_count": 5,
   "metadata": {},
   "outputs": [
    {
     "data": {
      "text/plain": [
       "2022-03-01 00:00:00    0.542068\n",
       "2022-03-01 00:01:00    0.592895\n",
       "2022-03-01 00:02:00    0.194921\n",
       "2022-03-01 00:03:00    1.031994\n",
       "2022-03-01 00:04:00    1.903584\n",
       "                         ...   \n",
       "2022-03-01 23:55:00    1.114991\n",
       "2022-03-01 23:56:00   -0.105563\n",
       "2022-03-01 23:57:00    0.757695\n",
       "2022-03-01 23:58:00   -0.995502\n",
       "2022-03-01 23:59:00   -1.812941\n",
       "Freq: T, Length: 1440, dtype: float64"
      ]
     },
     "execution_count": 5,
     "metadata": {},
     "output_type": "execute_result"
    }
   ],
   "source": [
    "time_series['2022.03.01']"
   ]
  },
  {
   "cell_type": "code",
   "execution_count": 6,
   "metadata": {},
   "outputs": [
    {
     "data": {
      "text/plain": [
       "2022-03-01 00:00:00    0.542068\n",
       "2022-03-01 00:01:00    0.592895\n",
       "2022-03-01 00:02:00    0.194921\n",
       "2022-03-01 00:03:00    1.031994\n",
       "2022-03-01 00:04:00    1.903584\n",
       "                         ...   \n",
       "2022-03-01 23:55:00    1.114991\n",
       "2022-03-01 23:56:00   -0.105563\n",
       "2022-03-01 23:57:00    0.757695\n",
       "2022-03-01 23:58:00   -0.995502\n",
       "2022-03-01 23:59:00   -1.812941\n",
       "Freq: T, Length: 1440, dtype: float64"
      ]
     },
     "execution_count": 6,
     "metadata": {},
     "output_type": "execute_result"
    }
   ],
   "source": [
    "time_series.loc['2022.03.01']"
   ]
  },
  {
   "cell_type": "code",
   "execution_count": 13,
   "metadata": {},
   "outputs": [
    {
     "data": {
      "text/plain": [
       "2022-05-10 00:00:00   -0.464096\n",
       "2022-05-10 00:01:00   -0.663551\n",
       "2022-05-10 00:02:00   -0.780966\n",
       "2022-05-10 00:03:00    1.389312\n",
       "2022-05-10 00:04:00    0.853637\n",
       "                         ...   \n",
       "2022-05-15 23:55:00    1.261957\n",
       "2022-05-15 23:56:00    0.248920\n",
       "2022-05-15 23:57:00   -1.305952\n",
       "2022-05-15 23:58:00    0.369071\n",
       "2022-05-15 23:59:00    1.356335\n",
       "Freq: T, Length: 8640, dtype: float64"
      ]
     },
     "execution_count": 13,
     "metadata": {},
     "output_type": "execute_result"
    }
   ],
   "source": [
    "time_series['5/10/2022':'5/15/2022']"
   ]
  },
  {
   "cell_type": "code",
   "execution_count": 14,
   "metadata": {},
   "outputs": [
    {
     "data": {
      "text/plain": [
       "2022-10-01 00:00:00    1.340023\n",
       "2022-10-01 00:01:00   -2.399847\n",
       "2022-10-01 00:02:00   -0.065270\n",
       "2022-10-01 00:03:00    0.259887\n",
       "2022-10-01 00:04:00   -0.172444\n",
       "                         ...   \n",
       "2022-10-31 23:55:00    0.121721\n",
       "2022-10-31 23:56:00    0.144960\n",
       "2022-10-31 23:57:00    1.365017\n",
       "2022-10-31 23:58:00    1.682285\n",
       "2022-10-31 23:59:00   -0.363602\n",
       "Freq: T, Length: 44640, dtype: float64"
      ]
     },
     "execution_count": 14,
     "metadata": {},
     "output_type": "execute_result"
    }
   ],
   "source": [
    "time_series['2022-10']"
   ]
  },
  {
   "cell_type": "code",
   "execution_count": 48,
   "metadata": {},
   "outputs": [
    {
     "data": {
      "text/plain": [
       "2022-10-01 00:00:00    0.830858\n",
       "2022-10-01 00:05:00   -0.835449\n",
       "2022-10-01 00:10:00   -0.816051\n",
       "2022-10-01 00:15:00   -0.429671\n",
       "2022-10-01 00:20:00   -1.037069\n",
       "                         ...   \n",
       "2022-10-31 23:35:00   -2.159410\n",
       "2022-10-31 23:40:00   -0.235876\n",
       "2022-10-31 23:45:00    0.398520\n",
       "2022-10-31 23:50:00    0.133619\n",
       "2022-10-31 23:55:00   -0.855305\n",
       "Freq: 5T, Length: 8928, dtype: float64"
      ]
     },
     "execution_count": 48,
     "metadata": {},
     "output_type": "execute_result"
    }
   ],
   "source": [
    "time_series['10/2022'][::5]"
   ]
  },
  {
   "cell_type": "code",
   "execution_count": 15,
   "metadata": {},
   "outputs": [
    {
     "data": {
      "text/plain": [
       "2022-01-01 00:00:00    1.706773\n",
       "2022-01-01 00:01:00    1.021036\n",
       "2022-01-01 00:02:00    0.927140\n",
       "2022-01-01 00:03:00    0.434494\n",
       "2022-01-01 00:04:00    1.059813\n",
       "                         ...   \n",
       "2022-03-31 23:55:00    1.425213\n",
       "2022-03-31 23:56:00   -0.591575\n",
       "2022-03-31 23:57:00    0.762000\n",
       "2022-03-31 23:58:00    0.341552\n",
       "2022-03-31 23:59:00    0.675635\n",
       "Freq: T, Length: 129600, dtype: float64"
      ]
     },
     "execution_count": 15,
     "metadata": {},
     "output_type": "execute_result"
    }
   ],
   "source": [
    "time_series['2022-1':'2022-3']"
   ]
  },
  {
   "cell_type": "code",
   "execution_count": 10,
   "metadata": {},
   "outputs": [
    {
     "data": {
      "text/plain": [
       "-0.3944044797088744"
      ]
     },
     "execution_count": 10,
     "metadata": {},
     "output_type": "execute_result"
    }
   ],
   "source": [
    "time_series['2022-1-18 10:20:00']"
   ]
  },
  {
   "cell_type": "code",
   "execution_count": 11,
   "metadata": {},
   "outputs": [
    {
     "data": {
      "text/plain": [
       "2022-01-18 10:20:00   -0.394404\n",
       "2022-01-18 10:21:00   -0.975685\n",
       "2022-01-18 10:22:00    1.315656\n",
       "2022-01-18 10:23:00    1.915662\n",
       "2022-01-18 10:24:00    1.401609\n",
       "                         ...   \n",
       "2022-03-21 12:26:00   -0.428319\n",
       "2022-03-21 12:27:00   -1.549625\n",
       "2022-03-21 12:28:00   -0.718706\n",
       "2022-03-21 12:29:00    0.251120\n",
       "2022-03-21 12:30:00    0.038957\n",
       "Freq: T, Length: 89411, dtype: float64"
      ]
     },
     "execution_count": 11,
     "metadata": {},
     "output_type": "execute_result"
    }
   ],
   "source": [
    "time_series['2022-1-18 10:20:00':'2022-3-21 12:30:00']"
   ]
  },
  {
   "cell_type": "code",
   "execution_count": 18,
   "metadata": {},
   "outputs": [
    {
     "data": {
      "text/plain": [
       "2022-01-01 00:00:00    1.706773\n",
       "2022-01-01 00:01:00    1.021036\n",
       "2022-01-01 00:02:00    0.927140\n",
       "2022-01-01 00:03:00    0.434494\n",
       "2022-01-01 00:04:00    1.059813\n",
       "                         ...   \n",
       "2022-02-27 23:56:00    0.803520\n",
       "2022-02-27 23:57:00   -1.404219\n",
       "2022-02-27 23:58:00    0.159093\n",
       "2022-02-27 23:59:00   -0.093704\n",
       "2022-02-28 00:00:00   -0.756051\n",
       "Freq: T, Length: 83521, dtype: float64"
      ]
     },
     "execution_count": 18,
     "metadata": {},
     "output_type": "execute_result"
    }
   ],
   "source": [
    "time_series[datetime.datetime(2022, 1, 1) : datetime.datetime(2022, 2, 28)]"
   ]
  },
  {
   "cell_type": "code",
   "execution_count": 19,
   "metadata": {},
   "outputs": [
    {
     "data": {
      "text/plain": [
       "2022-01-01 10:12:00   -0.973254\n",
       "2022-01-01 10:13:00    0.511100\n",
       "2022-01-01 10:14:00   -0.496870\n",
       "2022-01-01 10:15:00   -0.742284\n",
       "2022-01-01 10:16:00    0.273580\n",
       "                         ...   \n",
       "2022-02-28 10:08:00   -0.259353\n",
       "2022-02-28 10:09:00    0.680585\n",
       "2022-02-28 10:10:00   -1.219548\n",
       "2022-02-28 10:11:00   -0.974882\n",
       "2022-02-28 10:12:00   -1.293792\n",
       "Freq: T, Length: 83521, dtype: float64"
      ]
     },
     "execution_count": 19,
     "metadata": {},
     "output_type": "execute_result"
    }
   ],
   "source": [
    "time_series[datetime.datetime(2022, 1, 1, 10, 12, 0) : datetime.datetime(2022, 2, 28, 10, 12, 0)]"
   ]
  },
  {
   "cell_type": "code",
   "execution_count": 3,
   "metadata": {},
   "outputs": [],
   "source": [
    "date_range = pd.date_range('2022-01-01', '2023-01-01', freq='W')\n",
    "time_series_2 = pd.Series(np.random.randn(len(date_range)), index=date_range)"
   ]
  },
  {
   "cell_type": "code",
   "execution_count": 4,
   "metadata": {},
   "outputs": [
    {
     "data": {
      "text/plain": [
       "2022-11-06   -1.190367\n",
       "2022-11-13   -0.383181\n",
       "2022-11-20   -1.980531\n",
       "2022-11-27   -1.630708\n",
       "2022-12-04   -0.026590\n",
       "2022-12-11    0.169991\n",
       "2022-12-18    0.789561\n",
       "2022-12-25    1.975248\n",
       "2023-01-01    0.388513\n",
       "Freq: W-SUN, dtype: float64"
      ]
     },
     "execution_count": 4,
     "metadata": {},
     "output_type": "execute_result"
    }
   ],
   "source": [
    "time_series_2.truncate(before='2022-11')"
   ]
  },
  {
   "cell_type": "code",
   "execution_count": 21,
   "metadata": {},
   "outputs": [
    {
     "data": {
      "text/plain": [
       "2022-11-06    0.722276\n",
       "2022-11-13   -1.155483\n",
       "2022-11-20    0.992023\n",
       "2022-11-27    0.699238\n",
       "Freq: W-SUN, dtype: float64"
      ]
     },
     "execution_count": 21,
     "metadata": {},
     "output_type": "execute_result"
    }
   ],
   "source": [
    "time_series_2.truncate(before='2022-11', after='2022-12')"
   ]
  },
  {
   "cell_type": "code",
   "execution_count": 22,
   "metadata": {},
   "outputs": [
    {
     "data": {
      "text/plain": [
       "2022-11-06    0.722276\n",
       "2022-11-13   -1.155483\n",
       "2022-11-20    0.992023\n",
       "2022-11-27    0.699238\n",
       "2022-12-04    0.490644\n",
       "2022-12-11    0.023820\n",
       "2022-12-18    0.600032\n",
       "2022-12-25    1.126088\n",
       "Freq: W-SUN, dtype: float64"
      ]
     },
     "execution_count": 22,
     "metadata": {},
     "output_type": "execute_result"
    }
   ],
   "source": [
    "time_series_2['2022-11':'2022-12']"
   ]
  },
  {
   "cell_type": "code",
   "execution_count": 3,
   "metadata": {},
   "outputs": [],
   "source": [
    "data_air = pd.read_excel('../datasets/AirQualityUCI.xlsx')"
   ]
  },
  {
   "cell_type": "code",
   "execution_count": 4,
   "metadata": {},
   "outputs": [
    {
     "data": {
      "text/html": [
       "<div>\n",
       "<style scoped>\n",
       "    .dataframe tbody tr th:only-of-type {\n",
       "        vertical-align: middle;\n",
       "    }\n",
       "\n",
       "    .dataframe tbody tr th {\n",
       "        vertical-align: top;\n",
       "    }\n",
       "\n",
       "    .dataframe thead th {\n",
       "        text-align: right;\n",
       "    }\n",
       "</style>\n",
       "<table border=\"1\" class=\"dataframe\">\n",
       "  <thead>\n",
       "    <tr style=\"text-align: right;\">\n",
       "      <th></th>\n",
       "      <th>Date</th>\n",
       "      <th>Time</th>\n",
       "      <th>CO(GT)</th>\n",
       "      <th>PT08.S1(CO)</th>\n",
       "      <th>NMHC(GT)</th>\n",
       "      <th>C6H6(GT)</th>\n",
       "      <th>PT08.S2(NMHC)</th>\n",
       "      <th>NOx(GT)</th>\n",
       "      <th>PT08.S3(NOx)</th>\n",
       "      <th>NO2(GT)</th>\n",
       "      <th>PT08.S4(NO2)</th>\n",
       "      <th>PT08.S5(O3)</th>\n",
       "      <th>T</th>\n",
       "      <th>RH</th>\n",
       "      <th>AH</th>\n",
       "      <th>Unnamed: 15</th>\n",
       "      <th>Unnamed: 16</th>\n",
       "    </tr>\n",
       "  </thead>\n",
       "  <tbody>\n",
       "    <tr>\n",
       "      <th>0</th>\n",
       "      <td>2004-03-10</td>\n",
       "      <td>18:00:00</td>\n",
       "      <td>2.6</td>\n",
       "      <td>1360.00</td>\n",
       "      <td>150</td>\n",
       "      <td>11.881723</td>\n",
       "      <td>1045.50</td>\n",
       "      <td>166.0</td>\n",
       "      <td>1056.25</td>\n",
       "      <td>113.0</td>\n",
       "      <td>1692.00</td>\n",
       "      <td>1267.50</td>\n",
       "      <td>13.60</td>\n",
       "      <td>48.875001</td>\n",
       "      <td>0.757754</td>\n",
       "      <td>NaN</td>\n",
       "      <td>NaN</td>\n",
       "    </tr>\n",
       "    <tr>\n",
       "      <th>1</th>\n",
       "      <td>2004-03-10</td>\n",
       "      <td>19:00:00</td>\n",
       "      <td>2.0</td>\n",
       "      <td>1292.25</td>\n",
       "      <td>112</td>\n",
       "      <td>9.397165</td>\n",
       "      <td>954.75</td>\n",
       "      <td>103.0</td>\n",
       "      <td>1173.75</td>\n",
       "      <td>92.0</td>\n",
       "      <td>1558.75</td>\n",
       "      <td>972.25</td>\n",
       "      <td>13.30</td>\n",
       "      <td>47.700000</td>\n",
       "      <td>0.725487</td>\n",
       "      <td>NaN</td>\n",
       "      <td>NaN</td>\n",
       "    </tr>\n",
       "    <tr>\n",
       "      <th>2</th>\n",
       "      <td>2004-03-10</td>\n",
       "      <td>20:00:00</td>\n",
       "      <td>2.2</td>\n",
       "      <td>1402.00</td>\n",
       "      <td>88</td>\n",
       "      <td>8.997817</td>\n",
       "      <td>939.25</td>\n",
       "      <td>131.0</td>\n",
       "      <td>1140.00</td>\n",
       "      <td>114.0</td>\n",
       "      <td>1554.50</td>\n",
       "      <td>1074.00</td>\n",
       "      <td>11.90</td>\n",
       "      <td>53.975000</td>\n",
       "      <td>0.750239</td>\n",
       "      <td>NaN</td>\n",
       "      <td>NaN</td>\n",
       "    </tr>\n",
       "    <tr>\n",
       "      <th>3</th>\n",
       "      <td>2004-03-10</td>\n",
       "      <td>21:00:00</td>\n",
       "      <td>2.2</td>\n",
       "      <td>1375.50</td>\n",
       "      <td>80</td>\n",
       "      <td>9.228796</td>\n",
       "      <td>948.25</td>\n",
       "      <td>172.0</td>\n",
       "      <td>1092.00</td>\n",
       "      <td>122.0</td>\n",
       "      <td>1583.75</td>\n",
       "      <td>1203.25</td>\n",
       "      <td>11.00</td>\n",
       "      <td>60.000000</td>\n",
       "      <td>0.786713</td>\n",
       "      <td>NaN</td>\n",
       "      <td>NaN</td>\n",
       "    </tr>\n",
       "    <tr>\n",
       "      <th>4</th>\n",
       "      <td>2004-03-10</td>\n",
       "      <td>22:00:00</td>\n",
       "      <td>1.6</td>\n",
       "      <td>1272.25</td>\n",
       "      <td>51</td>\n",
       "      <td>6.518224</td>\n",
       "      <td>835.50</td>\n",
       "      <td>131.0</td>\n",
       "      <td>1205.00</td>\n",
       "      <td>116.0</td>\n",
       "      <td>1490.00</td>\n",
       "      <td>1110.00</td>\n",
       "      <td>11.15</td>\n",
       "      <td>59.575001</td>\n",
       "      <td>0.788794</td>\n",
       "      <td>NaN</td>\n",
       "      <td>NaN</td>\n",
       "    </tr>\n",
       "  </tbody>\n",
       "</table>\n",
       "</div>"
      ],
      "text/plain": [
       "        Date      Time  CO(GT)  PT08.S1(CO)  NMHC(GT)   C6H6(GT)  \\\n",
       "0 2004-03-10  18:00:00     2.6      1360.00       150  11.881723   \n",
       "1 2004-03-10  19:00:00     2.0      1292.25       112   9.397165   \n",
       "2 2004-03-10  20:00:00     2.2      1402.00        88   8.997817   \n",
       "3 2004-03-10  21:00:00     2.2      1375.50        80   9.228796   \n",
       "4 2004-03-10  22:00:00     1.6      1272.25        51   6.518224   \n",
       "\n",
       "   PT08.S2(NMHC)  NOx(GT)  PT08.S3(NOx)  NO2(GT)  PT08.S4(NO2)  PT08.S5(O3)  \\\n",
       "0        1045.50    166.0       1056.25    113.0       1692.00      1267.50   \n",
       "1         954.75    103.0       1173.75     92.0       1558.75       972.25   \n",
       "2         939.25    131.0       1140.00    114.0       1554.50      1074.00   \n",
       "3         948.25    172.0       1092.00    122.0       1583.75      1203.25   \n",
       "4         835.50    131.0       1205.00    116.0       1490.00      1110.00   \n",
       "\n",
       "       T         RH        AH  Unnamed: 15  Unnamed: 16  \n",
       "0  13.60  48.875001  0.757754          NaN          NaN  \n",
       "1  13.30  47.700000  0.725487          NaN          NaN  \n",
       "2  11.90  53.975000  0.750239          NaN          NaN  \n",
       "3  11.00  60.000000  0.786713          NaN          NaN  \n",
       "4  11.15  59.575001  0.788794          NaN          NaN  "
      ]
     },
     "execution_count": 4,
     "metadata": {},
     "output_type": "execute_result"
    }
   ],
   "source": [
    "data_air.head()"
   ]
  },
  {
   "cell_type": "markdown",
   "metadata": {},
   "source": [
    "Attribute Information:\n",
    "\n",
    "0 Date (DD/MM/YYYY) 1 Time (HH.MM.SS) 2 True hourly averaged concentration CO in mg/m^3 (reference analyzer) 3 PT08.S1 (tin oxide) hourly averaged sensor response (nominally CO targeted) 4 True hourly averaged overall Non Metanic HydroCarbons concentration in microg/m^3 (reference analyzer) 5 True hourly averaged Benzene concentration in microg/m^3 (reference analyzer) 6 PT08.S2 (titania) hourly averaged sensor response (nominally NMHC targeted) 7 True hourly averaged NOx concentration in ppb (reference analyzer) 8 PT08.S3 (tungsten oxide) hourly averaged sensor response (nominally NOx targeted) 9 True hourly averaged NO2 concentration in microg/m^3 (reference analyzer) 10 PT08.S4 (tungsten oxide) hourly averaged sensor response (nominally NO2 targeted) 11 PT08.S5 (indium oxide) hourly averaged sensor response (nominally O3 targeted) 12 Temperature in Â°C 13 Relative Humidity (%) 14 AH Absolute Humidity"
   ]
  },
  {
   "cell_type": "code",
   "execution_count": 5,
   "metadata": {},
   "outputs": [],
   "source": [
    "data_air = data_air[['Date', 'Time', 'T', 'RH', 'AH']]"
   ]
  },
  {
   "cell_type": "code",
   "execution_count": 6,
   "metadata": {},
   "outputs": [
    {
     "data": {
      "text/html": [
       "<div>\n",
       "<style scoped>\n",
       "    .dataframe tbody tr th:only-of-type {\n",
       "        vertical-align: middle;\n",
       "    }\n",
       "\n",
       "    .dataframe tbody tr th {\n",
       "        vertical-align: top;\n",
       "    }\n",
       "\n",
       "    .dataframe thead th {\n",
       "        text-align: right;\n",
       "    }\n",
       "</style>\n",
       "<table border=\"1\" class=\"dataframe\">\n",
       "  <thead>\n",
       "    <tr style=\"text-align: right;\">\n",
       "      <th></th>\n",
       "      <th>Date</th>\n",
       "      <th>Time</th>\n",
       "      <th>T</th>\n",
       "      <th>RH</th>\n",
       "      <th>AH</th>\n",
       "    </tr>\n",
       "  </thead>\n",
       "  <tbody>\n",
       "    <tr>\n",
       "      <th>0</th>\n",
       "      <td>2004-03-10</td>\n",
       "      <td>18:00:00</td>\n",
       "      <td>13.60</td>\n",
       "      <td>48.875001</td>\n",
       "      <td>0.757754</td>\n",
       "    </tr>\n",
       "    <tr>\n",
       "      <th>1</th>\n",
       "      <td>2004-03-10</td>\n",
       "      <td>19:00:00</td>\n",
       "      <td>13.30</td>\n",
       "      <td>47.700000</td>\n",
       "      <td>0.725487</td>\n",
       "    </tr>\n",
       "    <tr>\n",
       "      <th>2</th>\n",
       "      <td>2004-03-10</td>\n",
       "      <td>20:00:00</td>\n",
       "      <td>11.90</td>\n",
       "      <td>53.975000</td>\n",
       "      <td>0.750239</td>\n",
       "    </tr>\n",
       "    <tr>\n",
       "      <th>3</th>\n",
       "      <td>2004-03-10</td>\n",
       "      <td>21:00:00</td>\n",
       "      <td>11.00</td>\n",
       "      <td>60.000000</td>\n",
       "      <td>0.786713</td>\n",
       "    </tr>\n",
       "    <tr>\n",
       "      <th>4</th>\n",
       "      <td>2004-03-10</td>\n",
       "      <td>22:00:00</td>\n",
       "      <td>11.15</td>\n",
       "      <td>59.575001</td>\n",
       "      <td>0.788794</td>\n",
       "    </tr>\n",
       "  </tbody>\n",
       "</table>\n",
       "</div>"
      ],
      "text/plain": [
       "        Date      Time      T         RH        AH\n",
       "0 2004-03-10  18:00:00  13.60  48.875001  0.757754\n",
       "1 2004-03-10  19:00:00  13.30  47.700000  0.725487\n",
       "2 2004-03-10  20:00:00  11.90  53.975000  0.750239\n",
       "3 2004-03-10  21:00:00  11.00  60.000000  0.786713\n",
       "4 2004-03-10  22:00:00  11.15  59.575001  0.788794"
      ]
     },
     "execution_count": 6,
     "metadata": {},
     "output_type": "execute_result"
    }
   ],
   "source": [
    "data_air.head()"
   ]
  },
  {
   "cell_type": "code",
   "execution_count": 7,
   "metadata": {},
   "outputs": [
    {
     "data": {
      "text/plain": [
       "dtype('<M8[ns]')"
      ]
     },
     "execution_count": 7,
     "metadata": {},
     "output_type": "execute_result"
    }
   ],
   "source": [
    "data_air['Date'].dtype"
   ]
  },
  {
   "cell_type": "code",
   "execution_count": 8,
   "metadata": {},
   "outputs": [
    {
     "data": {
      "text/plain": [
       "0       2004\n",
       "1       2004\n",
       "2       2004\n",
       "3       2004\n",
       "4       2004\n",
       "        ... \n",
       "9352    2005\n",
       "9353    2005\n",
       "9354    2005\n",
       "9355    2005\n",
       "9356    2005\n",
       "Name: Date, Length: 9357, dtype: int64"
      ]
     },
     "execution_count": 8,
     "metadata": {},
     "output_type": "execute_result"
    }
   ],
   "source": [
    "data_air['Date'].dt.year"
   ]
  },
  {
   "cell_type": "code",
   "execution_count": 9,
   "metadata": {},
   "outputs": [],
   "source": [
    "data_air['year'] = data_air['Date'].dt.year"
   ]
  },
  {
   "cell_type": "code",
   "execution_count": 10,
   "metadata": {},
   "outputs": [
    {
     "data": {
      "text/plain": [
       "dtype('int64')"
      ]
     },
     "execution_count": 10,
     "metadata": {},
     "output_type": "execute_result"
    }
   ],
   "source": [
    "data_air['year'].dtype"
   ]
  },
  {
   "cell_type": "code",
   "execution_count": 11,
   "metadata": {},
   "outputs": [
    {
     "data": {
      "text/plain": [
       "0       3\n",
       "1       3\n",
       "2       3\n",
       "3       3\n",
       "4       3\n",
       "       ..\n",
       "9352    4\n",
       "9353    4\n",
       "9354    4\n",
       "9355    4\n",
       "9356    4\n",
       "Name: Date, Length: 9357, dtype: int64"
      ]
     },
     "execution_count": 11,
     "metadata": {},
     "output_type": "execute_result"
    }
   ],
   "source": [
    "data_air['Date'].dt.month"
   ]
  },
  {
   "cell_type": "code",
   "execution_count": 12,
   "metadata": {},
   "outputs": [],
   "source": [
    "data_air['month'] = data_air['Date'].dt.month"
   ]
  },
  {
   "cell_type": "code",
   "execution_count": 13,
   "metadata": {},
   "outputs": [
    {
     "data": {
      "text/plain": [
       "0       10\n",
       "1       10\n",
       "2       10\n",
       "3       10\n",
       "4       10\n",
       "        ..\n",
       "9352     4\n",
       "9353     4\n",
       "9354     4\n",
       "9355     4\n",
       "9356     4\n",
       "Name: Date, Length: 9357, dtype: int64"
      ]
     },
     "execution_count": 13,
     "metadata": {},
     "output_type": "execute_result"
    }
   ],
   "source": [
    "data_air['Date'].dt.day"
   ]
  },
  {
   "cell_type": "code",
   "execution_count": 14,
   "metadata": {},
   "outputs": [],
   "source": [
    "data_air['day'] = data_air['Date'].dt.day"
   ]
  },
  {
   "cell_type": "code",
   "execution_count": 15,
   "metadata": {},
   "outputs": [
    {
     "data": {
      "text/html": [
       "<div>\n",
       "<style scoped>\n",
       "    .dataframe tbody tr th:only-of-type {\n",
       "        vertical-align: middle;\n",
       "    }\n",
       "\n",
       "    .dataframe tbody tr th {\n",
       "        vertical-align: top;\n",
       "    }\n",
       "\n",
       "    .dataframe thead th {\n",
       "        text-align: right;\n",
       "    }\n",
       "</style>\n",
       "<table border=\"1\" class=\"dataframe\">\n",
       "  <thead>\n",
       "    <tr style=\"text-align: right;\">\n",
       "      <th></th>\n",
       "      <th>Date</th>\n",
       "      <th>Time</th>\n",
       "      <th>T</th>\n",
       "      <th>RH</th>\n",
       "      <th>AH</th>\n",
       "      <th>year</th>\n",
       "      <th>month</th>\n",
       "      <th>day</th>\n",
       "    </tr>\n",
       "  </thead>\n",
       "  <tbody>\n",
       "    <tr>\n",
       "      <th>0</th>\n",
       "      <td>2004-03-10</td>\n",
       "      <td>18:00:00</td>\n",
       "      <td>13.60</td>\n",
       "      <td>48.875001</td>\n",
       "      <td>0.757754</td>\n",
       "      <td>2004</td>\n",
       "      <td>3</td>\n",
       "      <td>10</td>\n",
       "    </tr>\n",
       "    <tr>\n",
       "      <th>1</th>\n",
       "      <td>2004-03-10</td>\n",
       "      <td>19:00:00</td>\n",
       "      <td>13.30</td>\n",
       "      <td>47.700000</td>\n",
       "      <td>0.725487</td>\n",
       "      <td>2004</td>\n",
       "      <td>3</td>\n",
       "      <td>10</td>\n",
       "    </tr>\n",
       "    <tr>\n",
       "      <th>2</th>\n",
       "      <td>2004-03-10</td>\n",
       "      <td>20:00:00</td>\n",
       "      <td>11.90</td>\n",
       "      <td>53.975000</td>\n",
       "      <td>0.750239</td>\n",
       "      <td>2004</td>\n",
       "      <td>3</td>\n",
       "      <td>10</td>\n",
       "    </tr>\n",
       "    <tr>\n",
       "      <th>3</th>\n",
       "      <td>2004-03-10</td>\n",
       "      <td>21:00:00</td>\n",
       "      <td>11.00</td>\n",
       "      <td>60.000000</td>\n",
       "      <td>0.786713</td>\n",
       "      <td>2004</td>\n",
       "      <td>3</td>\n",
       "      <td>10</td>\n",
       "    </tr>\n",
       "    <tr>\n",
       "      <th>4</th>\n",
       "      <td>2004-03-10</td>\n",
       "      <td>22:00:00</td>\n",
       "      <td>11.15</td>\n",
       "      <td>59.575001</td>\n",
       "      <td>0.788794</td>\n",
       "      <td>2004</td>\n",
       "      <td>3</td>\n",
       "      <td>10</td>\n",
       "    </tr>\n",
       "  </tbody>\n",
       "</table>\n",
       "</div>"
      ],
      "text/plain": [
       "        Date      Time      T         RH        AH  year  month  day\n",
       "0 2004-03-10  18:00:00  13.60  48.875001  0.757754  2004      3   10\n",
       "1 2004-03-10  19:00:00  13.30  47.700000  0.725487  2004      3   10\n",
       "2 2004-03-10  20:00:00  11.90  53.975000  0.750239  2004      3   10\n",
       "3 2004-03-10  21:00:00  11.00  60.000000  0.786713  2004      3   10\n",
       "4 2004-03-10  22:00:00  11.15  59.575001  0.788794  2004      3   10"
      ]
     },
     "execution_count": 15,
     "metadata": {},
     "output_type": "execute_result"
    }
   ],
   "source": [
    "data_air.head()"
   ]
  },
  {
   "cell_type": "code",
   "execution_count": 16,
   "metadata": {},
   "outputs": [
    {
     "data": {
      "text/html": [
       "<div>\n",
       "<style scoped>\n",
       "    .dataframe tbody tr th:only-of-type {\n",
       "        vertical-align: middle;\n",
       "    }\n",
       "\n",
       "    .dataframe tbody tr th {\n",
       "        vertical-align: top;\n",
       "    }\n",
       "\n",
       "    .dataframe thead th {\n",
       "        text-align: right;\n",
       "    }\n",
       "</style>\n",
       "<table border=\"1\" class=\"dataframe\">\n",
       "  <thead>\n",
       "    <tr style=\"text-align: right;\">\n",
       "      <th></th>\n",
       "      <th>Date</th>\n",
       "      <th>Time</th>\n",
       "      <th>T</th>\n",
       "      <th>RH</th>\n",
       "      <th>AH</th>\n",
       "      <th>year</th>\n",
       "      <th>month</th>\n",
       "      <th>day</th>\n",
       "    </tr>\n",
       "  </thead>\n",
       "  <tbody>\n",
       "    <tr>\n",
       "      <th>9352</th>\n",
       "      <td>2005-04-04</td>\n",
       "      <td>10:00:00</td>\n",
       "      <td>21.850</td>\n",
       "      <td>29.250</td>\n",
       "      <td>0.756824</td>\n",
       "      <td>2005</td>\n",
       "      <td>4</td>\n",
       "      <td>4</td>\n",
       "    </tr>\n",
       "    <tr>\n",
       "      <th>9353</th>\n",
       "      <td>2005-04-04</td>\n",
       "      <td>11:00:00</td>\n",
       "      <td>24.325</td>\n",
       "      <td>23.725</td>\n",
       "      <td>0.711864</td>\n",
       "      <td>2005</td>\n",
       "      <td>4</td>\n",
       "      <td>4</td>\n",
       "    </tr>\n",
       "    <tr>\n",
       "      <th>9354</th>\n",
       "      <td>2005-04-04</td>\n",
       "      <td>12:00:00</td>\n",
       "      <td>26.900</td>\n",
       "      <td>18.350</td>\n",
       "      <td>0.640649</td>\n",
       "      <td>2005</td>\n",
       "      <td>4</td>\n",
       "      <td>4</td>\n",
       "    </tr>\n",
       "    <tr>\n",
       "      <th>9355</th>\n",
       "      <td>2005-04-04</td>\n",
       "      <td>13:00:00</td>\n",
       "      <td>28.325</td>\n",
       "      <td>13.550</td>\n",
       "      <td>0.513866</td>\n",
       "      <td>2005</td>\n",
       "      <td>4</td>\n",
       "      <td>4</td>\n",
       "    </tr>\n",
       "    <tr>\n",
       "      <th>9356</th>\n",
       "      <td>2005-04-04</td>\n",
       "      <td>14:00:00</td>\n",
       "      <td>28.500</td>\n",
       "      <td>13.125</td>\n",
       "      <td>0.502804</td>\n",
       "      <td>2005</td>\n",
       "      <td>4</td>\n",
       "      <td>4</td>\n",
       "    </tr>\n",
       "  </tbody>\n",
       "</table>\n",
       "</div>"
      ],
      "text/plain": [
       "           Date      Time       T      RH        AH  year  month  day\n",
       "9352 2005-04-04  10:00:00  21.850  29.250  0.756824  2005      4    4\n",
       "9353 2005-04-04  11:00:00  24.325  23.725  0.711864  2005      4    4\n",
       "9354 2005-04-04  12:00:00  26.900  18.350  0.640649  2005      4    4\n",
       "9355 2005-04-04  13:00:00  28.325  13.550  0.513866  2005      4    4\n",
       "9356 2005-04-04  14:00:00  28.500  13.125  0.502804  2005      4    4"
      ]
     },
     "execution_count": 16,
     "metadata": {},
     "output_type": "execute_result"
    }
   ],
   "source": [
    "data_air.tail()"
   ]
  },
  {
   "cell_type": "code",
   "execution_count": 21,
   "metadata": {},
   "outputs": [
    {
     "data": {
      "text/html": [
       "<div>\n",
       "<style scoped>\n",
       "    .dataframe tbody tr th:only-of-type {\n",
       "        vertical-align: middle;\n",
       "    }\n",
       "\n",
       "    .dataframe tbody tr th {\n",
       "        vertical-align: top;\n",
       "    }\n",
       "\n",
       "    .dataframe thead th {\n",
       "        text-align: right;\n",
       "    }\n",
       "</style>\n",
       "<table border=\"1\" class=\"dataframe\">\n",
       "  <thead>\n",
       "    <tr style=\"text-align: right;\">\n",
       "      <th></th>\n",
       "      <th>year</th>\n",
       "      <th>week</th>\n",
       "      <th>day</th>\n",
       "    </tr>\n",
       "  </thead>\n",
       "  <tbody>\n",
       "    <tr>\n",
       "      <th>0</th>\n",
       "      <td>2004</td>\n",
       "      <td>11</td>\n",
       "      <td>3</td>\n",
       "    </tr>\n",
       "    <tr>\n",
       "      <th>1</th>\n",
       "      <td>2004</td>\n",
       "      <td>11</td>\n",
       "      <td>3</td>\n",
       "    </tr>\n",
       "    <tr>\n",
       "      <th>2</th>\n",
       "      <td>2004</td>\n",
       "      <td>11</td>\n",
       "      <td>3</td>\n",
       "    </tr>\n",
       "    <tr>\n",
       "      <th>3</th>\n",
       "      <td>2004</td>\n",
       "      <td>11</td>\n",
       "      <td>3</td>\n",
       "    </tr>\n",
       "    <tr>\n",
       "      <th>4</th>\n",
       "      <td>2004</td>\n",
       "      <td>11</td>\n",
       "      <td>3</td>\n",
       "    </tr>\n",
       "    <tr>\n",
       "      <th>...</th>\n",
       "      <td>...</td>\n",
       "      <td>...</td>\n",
       "      <td>...</td>\n",
       "    </tr>\n",
       "    <tr>\n",
       "      <th>9352</th>\n",
       "      <td>2005</td>\n",
       "      <td>14</td>\n",
       "      <td>1</td>\n",
       "    </tr>\n",
       "    <tr>\n",
       "      <th>9353</th>\n",
       "      <td>2005</td>\n",
       "      <td>14</td>\n",
       "      <td>1</td>\n",
       "    </tr>\n",
       "    <tr>\n",
       "      <th>9354</th>\n",
       "      <td>2005</td>\n",
       "      <td>14</td>\n",
       "      <td>1</td>\n",
       "    </tr>\n",
       "    <tr>\n",
       "      <th>9355</th>\n",
       "      <td>2005</td>\n",
       "      <td>14</td>\n",
       "      <td>1</td>\n",
       "    </tr>\n",
       "    <tr>\n",
       "      <th>9356</th>\n",
       "      <td>2005</td>\n",
       "      <td>14</td>\n",
       "      <td>1</td>\n",
       "    </tr>\n",
       "  </tbody>\n",
       "</table>\n",
       "<p>9357 rows × 3 columns</p>\n",
       "</div>"
      ],
      "text/plain": [
       "      year  week  day\n",
       "0     2004    11    3\n",
       "1     2004    11    3\n",
       "2     2004    11    3\n",
       "3     2004    11    3\n",
       "4     2004    11    3\n",
       "...    ...   ...  ...\n",
       "9352  2005    14    1\n",
       "9353  2005    14    1\n",
       "9354  2005    14    1\n",
       "9355  2005    14    1\n",
       "9356  2005    14    1\n",
       "\n",
       "[9357 rows x 3 columns]"
      ]
     },
     "execution_count": 21,
     "metadata": {},
     "output_type": "execute_result"
    }
   ],
   "source": [
    "data_air['Date'].dt.isocalendar()"
   ]
  },
  {
   "cell_type": "code",
   "execution_count": 20,
   "metadata": {},
   "outputs": [],
   "source": [
    "data_air['weekday'] = data_air['Date'].dt.weekday"
   ]
  },
  {
   "cell_type": "code",
   "execution_count": 22,
   "metadata": {},
   "outputs": [],
   "source": [
    "data_air[['iso_year', 'iso_week', 'iso_day']] = data_air['Date'].dt.isocalendar()"
   ]
  },
  {
   "cell_type": "code",
   "execution_count": 23,
   "metadata": {},
   "outputs": [
    {
     "data": {
      "text/html": [
       "<div>\n",
       "<style scoped>\n",
       "    .dataframe tbody tr th:only-of-type {\n",
       "        vertical-align: middle;\n",
       "    }\n",
       "\n",
       "    .dataframe tbody tr th {\n",
       "        vertical-align: top;\n",
       "    }\n",
       "\n",
       "    .dataframe thead th {\n",
       "        text-align: right;\n",
       "    }\n",
       "</style>\n",
       "<table border=\"1\" class=\"dataframe\">\n",
       "  <thead>\n",
       "    <tr style=\"text-align: right;\">\n",
       "      <th></th>\n",
       "      <th>Date</th>\n",
       "      <th>Time</th>\n",
       "      <th>T</th>\n",
       "      <th>RH</th>\n",
       "      <th>AH</th>\n",
       "      <th>year</th>\n",
       "      <th>month</th>\n",
       "      <th>day</th>\n",
       "      <th>weekday</th>\n",
       "      <th>iso_year</th>\n",
       "      <th>iso_week</th>\n",
       "      <th>iso_day</th>\n",
       "    </tr>\n",
       "  </thead>\n",
       "  <tbody>\n",
       "    <tr>\n",
       "      <th>0</th>\n",
       "      <td>2004-03-10</td>\n",
       "      <td>18:00:00</td>\n",
       "      <td>13.60</td>\n",
       "      <td>48.875001</td>\n",
       "      <td>0.757754</td>\n",
       "      <td>2004</td>\n",
       "      <td>3</td>\n",
       "      <td>10</td>\n",
       "      <td>2</td>\n",
       "      <td>2004</td>\n",
       "      <td>11</td>\n",
       "      <td>3</td>\n",
       "    </tr>\n",
       "    <tr>\n",
       "      <th>1</th>\n",
       "      <td>2004-03-10</td>\n",
       "      <td>19:00:00</td>\n",
       "      <td>13.30</td>\n",
       "      <td>47.700000</td>\n",
       "      <td>0.725487</td>\n",
       "      <td>2004</td>\n",
       "      <td>3</td>\n",
       "      <td>10</td>\n",
       "      <td>2</td>\n",
       "      <td>2004</td>\n",
       "      <td>11</td>\n",
       "      <td>3</td>\n",
       "    </tr>\n",
       "    <tr>\n",
       "      <th>2</th>\n",
       "      <td>2004-03-10</td>\n",
       "      <td>20:00:00</td>\n",
       "      <td>11.90</td>\n",
       "      <td>53.975000</td>\n",
       "      <td>0.750239</td>\n",
       "      <td>2004</td>\n",
       "      <td>3</td>\n",
       "      <td>10</td>\n",
       "      <td>2</td>\n",
       "      <td>2004</td>\n",
       "      <td>11</td>\n",
       "      <td>3</td>\n",
       "    </tr>\n",
       "    <tr>\n",
       "      <th>3</th>\n",
       "      <td>2004-03-10</td>\n",
       "      <td>21:00:00</td>\n",
       "      <td>11.00</td>\n",
       "      <td>60.000000</td>\n",
       "      <td>0.786713</td>\n",
       "      <td>2004</td>\n",
       "      <td>3</td>\n",
       "      <td>10</td>\n",
       "      <td>2</td>\n",
       "      <td>2004</td>\n",
       "      <td>11</td>\n",
       "      <td>3</td>\n",
       "    </tr>\n",
       "    <tr>\n",
       "      <th>4</th>\n",
       "      <td>2004-03-10</td>\n",
       "      <td>22:00:00</td>\n",
       "      <td>11.15</td>\n",
       "      <td>59.575001</td>\n",
       "      <td>0.788794</td>\n",
       "      <td>2004</td>\n",
       "      <td>3</td>\n",
       "      <td>10</td>\n",
       "      <td>2</td>\n",
       "      <td>2004</td>\n",
       "      <td>11</td>\n",
       "      <td>3</td>\n",
       "    </tr>\n",
       "  </tbody>\n",
       "</table>\n",
       "</div>"
      ],
      "text/plain": [
       "        Date      Time      T         RH        AH  year  month  day  weekday  \\\n",
       "0 2004-03-10  18:00:00  13.60  48.875001  0.757754  2004      3   10        2   \n",
       "1 2004-03-10  19:00:00  13.30  47.700000  0.725487  2004      3   10        2   \n",
       "2 2004-03-10  20:00:00  11.90  53.975000  0.750239  2004      3   10        2   \n",
       "3 2004-03-10  21:00:00  11.00  60.000000  0.786713  2004      3   10        2   \n",
       "4 2004-03-10  22:00:00  11.15  59.575001  0.788794  2004      3   10        2   \n",
       "\n",
       "   iso_year  iso_week  iso_day  \n",
       "0      2004        11        3  \n",
       "1      2004        11        3  \n",
       "2      2004        11        3  \n",
       "3      2004        11        3  \n",
       "4      2004        11        3  "
      ]
     },
     "execution_count": 23,
     "metadata": {},
     "output_type": "execute_result"
    }
   ],
   "source": [
    "data_air.head()"
   ]
  },
  {
   "cell_type": "code",
   "execution_count": 25,
   "metadata": {
    "scrolled": true
   },
   "outputs": [
    {
     "data": {
      "text/plain": [
       "4    1344\n",
       "5    1344\n",
       "6    1344\n",
       "7    1344\n",
       "1    1335\n",
       "3    1326\n",
       "2    1320\n",
       "Name: iso_day, dtype: Int64"
      ]
     },
     "execution_count": 25,
     "metadata": {},
     "output_type": "execute_result"
    }
   ],
   "source": [
    "data_air['iso_day'].value_counts()"
   ]
  },
  {
   "cell_type": "code",
   "execution_count": 5,
   "metadata": {},
   "outputs": [],
   "source": [
    "data_air = pd.read_csv('../datasets/AirQualityUCI.csv', sep = ';')\n",
    "data_air = data_air[['Date', 'Time', 'T', 'RH', 'AH']]"
   ]
  },
  {
   "cell_type": "code",
   "execution_count": 8,
   "metadata": {},
   "outputs": [
    {
     "data": {
      "text/html": [
       "<div>\n",
       "<style scoped>\n",
       "    .dataframe tbody tr th:only-of-type {\n",
       "        vertical-align: middle;\n",
       "    }\n",
       "\n",
       "    .dataframe tbody tr th {\n",
       "        vertical-align: top;\n",
       "    }\n",
       "\n",
       "    .dataframe thead th {\n",
       "        text-align: right;\n",
       "    }\n",
       "</style>\n",
       "<table border=\"1\" class=\"dataframe\">\n",
       "  <thead>\n",
       "    <tr style=\"text-align: right;\">\n",
       "      <th></th>\n",
       "      <th>Date</th>\n",
       "      <th>Time</th>\n",
       "      <th>T</th>\n",
       "      <th>RH</th>\n",
       "      <th>AH</th>\n",
       "    </tr>\n",
       "  </thead>\n",
       "  <tbody>\n",
       "    <tr>\n",
       "      <th>0</th>\n",
       "      <td>10/03/2004</td>\n",
       "      <td>18.00.00</td>\n",
       "      <td>13,6</td>\n",
       "      <td>48,9</td>\n",
       "      <td>0,7578</td>\n",
       "    </tr>\n",
       "    <tr>\n",
       "      <th>1</th>\n",
       "      <td>10/03/2004</td>\n",
       "      <td>19.00.00</td>\n",
       "      <td>13,3</td>\n",
       "      <td>47,7</td>\n",
       "      <td>0,7255</td>\n",
       "    </tr>\n",
       "    <tr>\n",
       "      <th>2</th>\n",
       "      <td>10/03/2004</td>\n",
       "      <td>20.00.00</td>\n",
       "      <td>11,9</td>\n",
       "      <td>54,0</td>\n",
       "      <td>0,7502</td>\n",
       "    </tr>\n",
       "    <tr>\n",
       "      <th>3</th>\n",
       "      <td>10/03/2004</td>\n",
       "      <td>21.00.00</td>\n",
       "      <td>11,0</td>\n",
       "      <td>60,0</td>\n",
       "      <td>0,7867</td>\n",
       "    </tr>\n",
       "    <tr>\n",
       "      <th>4</th>\n",
       "      <td>10/03/2004</td>\n",
       "      <td>22.00.00</td>\n",
       "      <td>11,2</td>\n",
       "      <td>59,6</td>\n",
       "      <td>0,7888</td>\n",
       "    </tr>\n",
       "  </tbody>\n",
       "</table>\n",
       "</div>"
      ],
      "text/plain": [
       "         Date      Time     T    RH      AH\n",
       "0  10/03/2004  18.00.00  13,6  48,9  0,7578\n",
       "1  10/03/2004  19.00.00  13,3  47,7  0,7255\n",
       "2  10/03/2004  20.00.00  11,9  54,0  0,7502\n",
       "3  10/03/2004  21.00.00  11,0  60,0  0,7867\n",
       "4  10/03/2004  22.00.00  11,2  59,6  0,7888"
      ]
     },
     "execution_count": 8,
     "metadata": {},
     "output_type": "execute_result"
    }
   ],
   "source": [
    "data_air.head()"
   ]
  },
  {
   "cell_type": "code",
   "execution_count": 9,
   "metadata": {},
   "outputs": [
    {
     "data": {
      "text/plain": [
       "Date    object\n",
       "Time    object\n",
       "T       object\n",
       "RH      object\n",
       "AH      object\n",
       "dtype: object"
      ]
     },
     "execution_count": 9,
     "metadata": {},
     "output_type": "execute_result"
    }
   ],
   "source": [
    "data_air.dtypes"
   ]
  },
  {
   "cell_type": "code",
   "execution_count": 10,
   "metadata": {},
   "outputs": [
    {
     "ename": "ValueError",
     "evalue": "could not convert string to float: '13,6'",
     "output_type": "error",
     "traceback": [
      "\u001b[1;31m---------------------------------------------------------------------------\u001b[0m",
      "\u001b[1;31mValueError\u001b[0m                                Traceback (most recent call last)",
      "\u001b[1;32m<ipython-input-10-8192c4475f24>\u001b[0m in \u001b[0;36m<module>\u001b[1;34m\u001b[0m\n\u001b[1;32m----> 1\u001b[1;33m \u001b[0mdata_air\u001b[0m\u001b[1;33m[\u001b[0m\u001b[1;33m[\u001b[0m\u001b[1;34m'T'\u001b[0m\u001b[1;33m,\u001b[0m \u001b[1;34m'RH'\u001b[0m\u001b[1;33m,\u001b[0m \u001b[1;34m'AH'\u001b[0m\u001b[1;33m]\u001b[0m\u001b[1;33m]\u001b[0m\u001b[1;33m.\u001b[0m\u001b[0mastype\u001b[0m\u001b[1;33m(\u001b[0m\u001b[0mfloat\u001b[0m\u001b[1;33m)\u001b[0m\u001b[1;33m\u001b[0m\u001b[1;33m\u001b[0m\u001b[0m\n\u001b[0m",
      "\u001b[1;32m~\\anaconda3\\lib\\site-packages\\pandas\\core\\generic.py\u001b[0m in \u001b[0;36mastype\u001b[1;34m(self, dtype, copy, errors)\u001b[0m\n\u001b[0;32m   5875\u001b[0m         \u001b[1;32melse\u001b[0m\u001b[1;33m:\u001b[0m\u001b[1;33m\u001b[0m\u001b[1;33m\u001b[0m\u001b[0m\n\u001b[0;32m   5876\u001b[0m             \u001b[1;31m# else, only a single dtype is given\u001b[0m\u001b[1;33m\u001b[0m\u001b[1;33m\u001b[0m\u001b[1;33m\u001b[0m\u001b[0m\n\u001b[1;32m-> 5877\u001b[1;33m             \u001b[0mnew_data\u001b[0m \u001b[1;33m=\u001b[0m \u001b[0mself\u001b[0m\u001b[1;33m.\u001b[0m\u001b[0m_mgr\u001b[0m\u001b[1;33m.\u001b[0m\u001b[0mastype\u001b[0m\u001b[1;33m(\u001b[0m\u001b[0mdtype\u001b[0m\u001b[1;33m=\u001b[0m\u001b[0mdtype\u001b[0m\u001b[1;33m,\u001b[0m \u001b[0mcopy\u001b[0m\u001b[1;33m=\u001b[0m\u001b[0mcopy\u001b[0m\u001b[1;33m,\u001b[0m \u001b[0merrors\u001b[0m\u001b[1;33m=\u001b[0m\u001b[0merrors\u001b[0m\u001b[1;33m)\u001b[0m\u001b[1;33m\u001b[0m\u001b[1;33m\u001b[0m\u001b[0m\n\u001b[0m\u001b[0;32m   5878\u001b[0m             \u001b[1;32mreturn\u001b[0m \u001b[0mself\u001b[0m\u001b[1;33m.\u001b[0m\u001b[0m_constructor\u001b[0m\u001b[1;33m(\u001b[0m\u001b[0mnew_data\u001b[0m\u001b[1;33m)\u001b[0m\u001b[1;33m.\u001b[0m\u001b[0m__finalize__\u001b[0m\u001b[1;33m(\u001b[0m\u001b[0mself\u001b[0m\u001b[1;33m,\u001b[0m \u001b[0mmethod\u001b[0m\u001b[1;33m=\u001b[0m\u001b[1;34m\"astype\"\u001b[0m\u001b[1;33m)\u001b[0m\u001b[1;33m\u001b[0m\u001b[1;33m\u001b[0m\u001b[0m\n\u001b[0;32m   5879\u001b[0m \u001b[1;33m\u001b[0m\u001b[0m\n",
      "\u001b[1;32m~\\anaconda3\\lib\\site-packages\\pandas\\core\\internals\\managers.py\u001b[0m in \u001b[0;36mastype\u001b[1;34m(self, dtype, copy, errors)\u001b[0m\n\u001b[0;32m    629\u001b[0m         \u001b[0mself\u001b[0m\u001b[1;33m,\u001b[0m \u001b[0mdtype\u001b[0m\u001b[1;33m,\u001b[0m \u001b[0mcopy\u001b[0m\u001b[1;33m:\u001b[0m \u001b[0mbool\u001b[0m \u001b[1;33m=\u001b[0m \u001b[1;32mFalse\u001b[0m\u001b[1;33m,\u001b[0m \u001b[0merrors\u001b[0m\u001b[1;33m:\u001b[0m \u001b[0mstr\u001b[0m \u001b[1;33m=\u001b[0m \u001b[1;34m\"raise\"\u001b[0m\u001b[1;33m\u001b[0m\u001b[1;33m\u001b[0m\u001b[0m\n\u001b[0;32m    630\u001b[0m     ) -> \"BlockManager\":\n\u001b[1;32m--> 631\u001b[1;33m         \u001b[1;32mreturn\u001b[0m \u001b[0mself\u001b[0m\u001b[1;33m.\u001b[0m\u001b[0mapply\u001b[0m\u001b[1;33m(\u001b[0m\u001b[1;34m\"astype\"\u001b[0m\u001b[1;33m,\u001b[0m \u001b[0mdtype\u001b[0m\u001b[1;33m=\u001b[0m\u001b[0mdtype\u001b[0m\u001b[1;33m,\u001b[0m \u001b[0mcopy\u001b[0m\u001b[1;33m=\u001b[0m\u001b[0mcopy\u001b[0m\u001b[1;33m,\u001b[0m \u001b[0merrors\u001b[0m\u001b[1;33m=\u001b[0m\u001b[0merrors\u001b[0m\u001b[1;33m)\u001b[0m\u001b[1;33m\u001b[0m\u001b[1;33m\u001b[0m\u001b[0m\n\u001b[0m\u001b[0;32m    632\u001b[0m \u001b[1;33m\u001b[0m\u001b[0m\n\u001b[0;32m    633\u001b[0m     def convert(\n",
      "\u001b[1;32m~\\anaconda3\\lib\\site-packages\\pandas\\core\\internals\\managers.py\u001b[0m in \u001b[0;36mapply\u001b[1;34m(self, f, align_keys, ignore_failures, **kwargs)\u001b[0m\n\u001b[0;32m    425\u001b[0m                     \u001b[0mapplied\u001b[0m \u001b[1;33m=\u001b[0m \u001b[0mb\u001b[0m\u001b[1;33m.\u001b[0m\u001b[0mapply\u001b[0m\u001b[1;33m(\u001b[0m\u001b[0mf\u001b[0m\u001b[1;33m,\u001b[0m \u001b[1;33m**\u001b[0m\u001b[0mkwargs\u001b[0m\u001b[1;33m)\u001b[0m\u001b[1;33m\u001b[0m\u001b[1;33m\u001b[0m\u001b[0m\n\u001b[0;32m    426\u001b[0m                 \u001b[1;32melse\u001b[0m\u001b[1;33m:\u001b[0m\u001b[1;33m\u001b[0m\u001b[1;33m\u001b[0m\u001b[0m\n\u001b[1;32m--> 427\u001b[1;33m                     \u001b[0mapplied\u001b[0m \u001b[1;33m=\u001b[0m \u001b[0mgetattr\u001b[0m\u001b[1;33m(\u001b[0m\u001b[0mb\u001b[0m\u001b[1;33m,\u001b[0m \u001b[0mf\u001b[0m\u001b[1;33m)\u001b[0m\u001b[1;33m(\u001b[0m\u001b[1;33m**\u001b[0m\u001b[0mkwargs\u001b[0m\u001b[1;33m)\u001b[0m\u001b[1;33m\u001b[0m\u001b[1;33m\u001b[0m\u001b[0m\n\u001b[0m\u001b[0;32m    428\u001b[0m             \u001b[1;32mexcept\u001b[0m \u001b[1;33m(\u001b[0m\u001b[0mTypeError\u001b[0m\u001b[1;33m,\u001b[0m \u001b[0mNotImplementedError\u001b[0m\u001b[1;33m)\u001b[0m\u001b[1;33m:\u001b[0m\u001b[1;33m\u001b[0m\u001b[1;33m\u001b[0m\u001b[0m\n\u001b[0;32m    429\u001b[0m                 \u001b[1;32mif\u001b[0m \u001b[1;32mnot\u001b[0m \u001b[0mignore_failures\u001b[0m\u001b[1;33m:\u001b[0m\u001b[1;33m\u001b[0m\u001b[1;33m\u001b[0m\u001b[0m\n",
      "\u001b[1;32m~\\anaconda3\\lib\\site-packages\\pandas\\core\\internals\\blocks.py\u001b[0m in \u001b[0;36mastype\u001b[1;34m(self, dtype, copy, errors)\u001b[0m\n\u001b[0;32m    671\u001b[0m             \u001b[0mvals1d\u001b[0m \u001b[1;33m=\u001b[0m \u001b[0mvalues\u001b[0m\u001b[1;33m.\u001b[0m\u001b[0mravel\u001b[0m\u001b[1;33m(\u001b[0m\u001b[1;33m)\u001b[0m\u001b[1;33m\u001b[0m\u001b[1;33m\u001b[0m\u001b[0m\n\u001b[0;32m    672\u001b[0m             \u001b[1;32mtry\u001b[0m\u001b[1;33m:\u001b[0m\u001b[1;33m\u001b[0m\u001b[1;33m\u001b[0m\u001b[0m\n\u001b[1;32m--> 673\u001b[1;33m                 \u001b[0mvalues\u001b[0m \u001b[1;33m=\u001b[0m \u001b[0mastype_nansafe\u001b[0m\u001b[1;33m(\u001b[0m\u001b[0mvals1d\u001b[0m\u001b[1;33m,\u001b[0m \u001b[0mdtype\u001b[0m\u001b[1;33m,\u001b[0m \u001b[0mcopy\u001b[0m\u001b[1;33m=\u001b[0m\u001b[1;32mTrue\u001b[0m\u001b[1;33m)\u001b[0m\u001b[1;33m\u001b[0m\u001b[1;33m\u001b[0m\u001b[0m\n\u001b[0m\u001b[0;32m    674\u001b[0m             \u001b[1;32mexcept\u001b[0m \u001b[1;33m(\u001b[0m\u001b[0mValueError\u001b[0m\u001b[1;33m,\u001b[0m \u001b[0mTypeError\u001b[0m\u001b[1;33m)\u001b[0m\u001b[1;33m:\u001b[0m\u001b[1;33m\u001b[0m\u001b[1;33m\u001b[0m\u001b[0m\n\u001b[0;32m    675\u001b[0m                 \u001b[1;31m# e.g. astype_nansafe can fail on object-dtype of strings\u001b[0m\u001b[1;33m\u001b[0m\u001b[1;33m\u001b[0m\u001b[1;33m\u001b[0m\u001b[0m\n",
      "\u001b[1;32m~\\anaconda3\\lib\\site-packages\\pandas\\core\\dtypes\\cast.py\u001b[0m in \u001b[0;36mastype_nansafe\u001b[1;34m(arr, dtype, copy, skipna)\u001b[0m\n\u001b[0;32m   1095\u001b[0m     \u001b[1;32mif\u001b[0m \u001b[0mcopy\u001b[0m \u001b[1;32mor\u001b[0m \u001b[0mis_object_dtype\u001b[0m\u001b[1;33m(\u001b[0m\u001b[0marr\u001b[0m\u001b[1;33m)\u001b[0m \u001b[1;32mor\u001b[0m \u001b[0mis_object_dtype\u001b[0m\u001b[1;33m(\u001b[0m\u001b[0mdtype\u001b[0m\u001b[1;33m)\u001b[0m\u001b[1;33m:\u001b[0m\u001b[1;33m\u001b[0m\u001b[1;33m\u001b[0m\u001b[0m\n\u001b[0;32m   1096\u001b[0m         \u001b[1;31m# Explicit copy, or required since NumPy can't view from / to object.\u001b[0m\u001b[1;33m\u001b[0m\u001b[1;33m\u001b[0m\u001b[1;33m\u001b[0m\u001b[0m\n\u001b[1;32m-> 1097\u001b[1;33m         \u001b[1;32mreturn\u001b[0m \u001b[0marr\u001b[0m\u001b[1;33m.\u001b[0m\u001b[0mastype\u001b[0m\u001b[1;33m(\u001b[0m\u001b[0mdtype\u001b[0m\u001b[1;33m,\u001b[0m \u001b[0mcopy\u001b[0m\u001b[1;33m=\u001b[0m\u001b[1;32mTrue\u001b[0m\u001b[1;33m)\u001b[0m\u001b[1;33m\u001b[0m\u001b[1;33m\u001b[0m\u001b[0m\n\u001b[0m\u001b[0;32m   1098\u001b[0m \u001b[1;33m\u001b[0m\u001b[0m\n\u001b[0;32m   1099\u001b[0m     \u001b[1;32mreturn\u001b[0m \u001b[0marr\u001b[0m\u001b[1;33m.\u001b[0m\u001b[0mview\u001b[0m\u001b[1;33m(\u001b[0m\u001b[0mdtype\u001b[0m\u001b[1;33m)\u001b[0m\u001b[1;33m\u001b[0m\u001b[1;33m\u001b[0m\u001b[0m\n",
      "\u001b[1;31mValueError\u001b[0m: could not convert string to float: '13,6'"
     ]
    }
   ],
   "source": [
    "# 에러상황을 보여주기 위한 부분으로 삭제하지 마세요.\n",
    "data_air[['T', 'RH', 'AH']].astype(float)"
   ]
  },
  {
   "cell_type": "code",
   "execution_count": 11,
   "metadata": {},
   "outputs": [],
   "source": [
    "data_air['T'] = data_air['T'].str.replace(',', '.').astype(float)\n",
    "data_air['RH'] = data_air['RH'].str.replace(',', '.').astype(float)\n",
    "data_air['AH'] = data_air['AH'].str.replace(',', '.').astype(float)"
   ]
  },
  {
   "cell_type": "code",
   "execution_count": 12,
   "metadata": {},
   "outputs": [
    {
     "data": {
      "text/plain": [
       "Date     object\n",
       "Time     object\n",
       "T       float64\n",
       "RH      float64\n",
       "AH      float64\n",
       "dtype: object"
      ]
     },
     "execution_count": 12,
     "metadata": {},
     "output_type": "execute_result"
    }
   ],
   "source": [
    "data_air.dtypes"
   ]
  },
  {
   "cell_type": "code",
   "execution_count": 13,
   "metadata": {
    "scrolled": true
   },
   "outputs": [],
   "source": [
    "data_air['Date_Time'] = data_air['Date'] + ' ' + data_air['Time']"
   ]
  },
  {
   "cell_type": "code",
   "execution_count": 14,
   "metadata": {},
   "outputs": [
    {
     "data": {
      "text/html": [
       "<div>\n",
       "<style scoped>\n",
       "    .dataframe tbody tr th:only-of-type {\n",
       "        vertical-align: middle;\n",
       "    }\n",
       "\n",
       "    .dataframe tbody tr th {\n",
       "        vertical-align: top;\n",
       "    }\n",
       "\n",
       "    .dataframe thead th {\n",
       "        text-align: right;\n",
       "    }\n",
       "</style>\n",
       "<table border=\"1\" class=\"dataframe\">\n",
       "  <thead>\n",
       "    <tr style=\"text-align: right;\">\n",
       "      <th></th>\n",
       "      <th>Date</th>\n",
       "      <th>Time</th>\n",
       "      <th>T</th>\n",
       "      <th>RH</th>\n",
       "      <th>AH</th>\n",
       "      <th>Date_Time</th>\n",
       "    </tr>\n",
       "  </thead>\n",
       "  <tbody>\n",
       "    <tr>\n",
       "      <th>0</th>\n",
       "      <td>10/03/2004</td>\n",
       "      <td>18.00.00</td>\n",
       "      <td>13.6</td>\n",
       "      <td>48.9</td>\n",
       "      <td>0.7578</td>\n",
       "      <td>10/03/2004 18.00.00</td>\n",
       "    </tr>\n",
       "    <tr>\n",
       "      <th>1</th>\n",
       "      <td>10/03/2004</td>\n",
       "      <td>19.00.00</td>\n",
       "      <td>13.3</td>\n",
       "      <td>47.7</td>\n",
       "      <td>0.7255</td>\n",
       "      <td>10/03/2004 19.00.00</td>\n",
       "    </tr>\n",
       "    <tr>\n",
       "      <th>2</th>\n",
       "      <td>10/03/2004</td>\n",
       "      <td>20.00.00</td>\n",
       "      <td>11.9</td>\n",
       "      <td>54.0</td>\n",
       "      <td>0.7502</td>\n",
       "      <td>10/03/2004 20.00.00</td>\n",
       "    </tr>\n",
       "    <tr>\n",
       "      <th>3</th>\n",
       "      <td>10/03/2004</td>\n",
       "      <td>21.00.00</td>\n",
       "      <td>11.0</td>\n",
       "      <td>60.0</td>\n",
       "      <td>0.7867</td>\n",
       "      <td>10/03/2004 21.00.00</td>\n",
       "    </tr>\n",
       "    <tr>\n",
       "      <th>4</th>\n",
       "      <td>10/03/2004</td>\n",
       "      <td>22.00.00</td>\n",
       "      <td>11.2</td>\n",
       "      <td>59.6</td>\n",
       "      <td>0.7888</td>\n",
       "      <td>10/03/2004 22.00.00</td>\n",
       "    </tr>\n",
       "  </tbody>\n",
       "</table>\n",
       "</div>"
      ],
      "text/plain": [
       "         Date      Time     T    RH      AH            Date_Time\n",
       "0  10/03/2004  18.00.00  13.6  48.9  0.7578  10/03/2004 18.00.00\n",
       "1  10/03/2004  19.00.00  13.3  47.7  0.7255  10/03/2004 19.00.00\n",
       "2  10/03/2004  20.00.00  11.9  54.0  0.7502  10/03/2004 20.00.00\n",
       "3  10/03/2004  21.00.00  11.0  60.0  0.7867  10/03/2004 21.00.00\n",
       "4  10/03/2004  22.00.00  11.2  59.6  0.7888  10/03/2004 22.00.00"
      ]
     },
     "execution_count": 14,
     "metadata": {},
     "output_type": "execute_result"
    }
   ],
   "source": [
    "data_air.head()"
   ]
  },
  {
   "cell_type": "code",
   "execution_count": 15,
   "metadata": {},
   "outputs": [],
   "source": [
    "data_air = data_air.dropna()"
   ]
  },
  {
   "cell_type": "code",
   "execution_count": 16,
   "metadata": {},
   "outputs": [
    {
     "data": {
      "text/plain": [
       "0      2004-03-10 18:00:00\n",
       "1      2004-03-10 19:00:00\n",
       "2      2004-03-10 20:00:00\n",
       "3      2004-03-10 21:00:00\n",
       "4      2004-03-10 22:00:00\n",
       "               ...        \n",
       "9352   2005-04-04 10:00:00\n",
       "9353   2005-04-04 11:00:00\n",
       "9354   2005-04-04 12:00:00\n",
       "9355   2005-04-04 13:00:00\n",
       "9356   2005-04-04 14:00:00\n",
       "Name: Date_Time, Length: 9357, dtype: datetime64[ns]"
      ]
     },
     "execution_count": 16,
     "metadata": {},
     "output_type": "execute_result"
    }
   ],
   "source": [
    "pd.to_datetime(data_air['Date_Time'], format='%d/%m/%Y %H.%M.%S')"
   ]
  },
  {
   "cell_type": "code",
   "execution_count": 17,
   "metadata": {},
   "outputs": [],
   "source": [
    "data_air['Date_Time'] = pd.to_datetime(data_air['Date_Time'], format='%d/%m/%Y %H.%M.%S')"
   ]
  },
  {
   "cell_type": "code",
   "execution_count": 18,
   "metadata": {},
   "outputs": [
    {
     "data": {
      "text/html": [
       "<div>\n",
       "<style scoped>\n",
       "    .dataframe tbody tr th:only-of-type {\n",
       "        vertical-align: middle;\n",
       "    }\n",
       "\n",
       "    .dataframe tbody tr th {\n",
       "        vertical-align: top;\n",
       "    }\n",
       "\n",
       "    .dataframe thead th {\n",
       "        text-align: right;\n",
       "    }\n",
       "</style>\n",
       "<table border=\"1\" class=\"dataframe\">\n",
       "  <thead>\n",
       "    <tr style=\"text-align: right;\">\n",
       "      <th></th>\n",
       "      <th>Date</th>\n",
       "      <th>Time</th>\n",
       "      <th>T</th>\n",
       "      <th>RH</th>\n",
       "      <th>AH</th>\n",
       "      <th>Date_Time</th>\n",
       "    </tr>\n",
       "  </thead>\n",
       "  <tbody>\n",
       "    <tr>\n",
       "      <th>0</th>\n",
       "      <td>10/03/2004</td>\n",
       "      <td>18.00.00</td>\n",
       "      <td>13.6</td>\n",
       "      <td>48.9</td>\n",
       "      <td>0.7578</td>\n",
       "      <td>2004-03-10 18:00:00</td>\n",
       "    </tr>\n",
       "    <tr>\n",
       "      <th>1</th>\n",
       "      <td>10/03/2004</td>\n",
       "      <td>19.00.00</td>\n",
       "      <td>13.3</td>\n",
       "      <td>47.7</td>\n",
       "      <td>0.7255</td>\n",
       "      <td>2004-03-10 19:00:00</td>\n",
       "    </tr>\n",
       "    <tr>\n",
       "      <th>2</th>\n",
       "      <td>10/03/2004</td>\n",
       "      <td>20.00.00</td>\n",
       "      <td>11.9</td>\n",
       "      <td>54.0</td>\n",
       "      <td>0.7502</td>\n",
       "      <td>2004-03-10 20:00:00</td>\n",
       "    </tr>\n",
       "    <tr>\n",
       "      <th>3</th>\n",
       "      <td>10/03/2004</td>\n",
       "      <td>21.00.00</td>\n",
       "      <td>11.0</td>\n",
       "      <td>60.0</td>\n",
       "      <td>0.7867</td>\n",
       "      <td>2004-03-10 21:00:00</td>\n",
       "    </tr>\n",
       "    <tr>\n",
       "      <th>4</th>\n",
       "      <td>10/03/2004</td>\n",
       "      <td>22.00.00</td>\n",
       "      <td>11.2</td>\n",
       "      <td>59.6</td>\n",
       "      <td>0.7888</td>\n",
       "      <td>2004-03-10 22:00:00</td>\n",
       "    </tr>\n",
       "  </tbody>\n",
       "</table>\n",
       "</div>"
      ],
      "text/plain": [
       "         Date      Time     T    RH      AH           Date_Time\n",
       "0  10/03/2004  18.00.00  13.6  48.9  0.7578 2004-03-10 18:00:00\n",
       "1  10/03/2004  19.00.00  13.3  47.7  0.7255 2004-03-10 19:00:00\n",
       "2  10/03/2004  20.00.00  11.9  54.0  0.7502 2004-03-10 20:00:00\n",
       "3  10/03/2004  21.00.00  11.0  60.0  0.7867 2004-03-10 21:00:00\n",
       "4  10/03/2004  22.00.00  11.2  59.6  0.7888 2004-03-10 22:00:00"
      ]
     },
     "execution_count": 18,
     "metadata": {},
     "output_type": "execute_result"
    }
   ],
   "source": [
    "data_air.head()"
   ]
  },
  {
   "cell_type": "code",
   "execution_count": 19,
   "metadata": {},
   "outputs": [
    {
     "data": {
      "text/plain": [
       "0       18\n",
       "1       19\n",
       "2       20\n",
       "3       21\n",
       "4       22\n",
       "        ..\n",
       "9352    10\n",
       "9353    11\n",
       "9354    12\n",
       "9355    13\n",
       "9356    14\n",
       "Name: Date_Time, Length: 9357, dtype: int64"
      ]
     },
     "execution_count": 19,
     "metadata": {},
     "output_type": "execute_result"
    }
   ],
   "source": [
    "data_air['Date_Time'].dt.hour"
   ]
  },
  {
   "cell_type": "code",
   "execution_count": 20,
   "metadata": {},
   "outputs": [],
   "source": [
    "data_air['hour'] = data_air['Date_Time'].dt.hour"
   ]
  },
  {
   "cell_type": "code",
   "execution_count": 21,
   "metadata": {},
   "outputs": [
    {
     "data": {
      "text/html": [
       "<div>\n",
       "<style scoped>\n",
       "    .dataframe tbody tr th:only-of-type {\n",
       "        vertical-align: middle;\n",
       "    }\n",
       "\n",
       "    .dataframe tbody tr th {\n",
       "        vertical-align: top;\n",
       "    }\n",
       "\n",
       "    .dataframe thead th {\n",
       "        text-align: right;\n",
       "    }\n",
       "</style>\n",
       "<table border=\"1\" class=\"dataframe\">\n",
       "  <thead>\n",
       "    <tr style=\"text-align: right;\">\n",
       "      <th></th>\n",
       "      <th>Date</th>\n",
       "      <th>Time</th>\n",
       "      <th>T</th>\n",
       "      <th>RH</th>\n",
       "      <th>AH</th>\n",
       "      <th>Date_Time</th>\n",
       "      <th>hour</th>\n",
       "    </tr>\n",
       "  </thead>\n",
       "  <tbody>\n",
       "    <tr>\n",
       "      <th>0</th>\n",
       "      <td>10/03/2004</td>\n",
       "      <td>18.00.00</td>\n",
       "      <td>13.6</td>\n",
       "      <td>48.9</td>\n",
       "      <td>0.7578</td>\n",
       "      <td>2004-03-10 18:00:00</td>\n",
       "      <td>18</td>\n",
       "    </tr>\n",
       "    <tr>\n",
       "      <th>1</th>\n",
       "      <td>10/03/2004</td>\n",
       "      <td>19.00.00</td>\n",
       "      <td>13.3</td>\n",
       "      <td>47.7</td>\n",
       "      <td>0.7255</td>\n",
       "      <td>2004-03-10 19:00:00</td>\n",
       "      <td>19</td>\n",
       "    </tr>\n",
       "    <tr>\n",
       "      <th>2</th>\n",
       "      <td>10/03/2004</td>\n",
       "      <td>20.00.00</td>\n",
       "      <td>11.9</td>\n",
       "      <td>54.0</td>\n",
       "      <td>0.7502</td>\n",
       "      <td>2004-03-10 20:00:00</td>\n",
       "      <td>20</td>\n",
       "    </tr>\n",
       "    <tr>\n",
       "      <th>3</th>\n",
       "      <td>10/03/2004</td>\n",
       "      <td>21.00.00</td>\n",
       "      <td>11.0</td>\n",
       "      <td>60.0</td>\n",
       "      <td>0.7867</td>\n",
       "      <td>2004-03-10 21:00:00</td>\n",
       "      <td>21</td>\n",
       "    </tr>\n",
       "    <tr>\n",
       "      <th>4</th>\n",
       "      <td>10/03/2004</td>\n",
       "      <td>22.00.00</td>\n",
       "      <td>11.2</td>\n",
       "      <td>59.6</td>\n",
       "      <td>0.7888</td>\n",
       "      <td>2004-03-10 22:00:00</td>\n",
       "      <td>22</td>\n",
       "    </tr>\n",
       "  </tbody>\n",
       "</table>\n",
       "</div>"
      ],
      "text/plain": [
       "         Date      Time     T    RH      AH           Date_Time  hour\n",
       "0  10/03/2004  18.00.00  13.6  48.9  0.7578 2004-03-10 18:00:00    18\n",
       "1  10/03/2004  19.00.00  13.3  47.7  0.7255 2004-03-10 19:00:00    19\n",
       "2  10/03/2004  20.00.00  11.9  54.0  0.7502 2004-03-10 20:00:00    20\n",
       "3  10/03/2004  21.00.00  11.0  60.0  0.7867 2004-03-10 21:00:00    21\n",
       "4  10/03/2004  22.00.00  11.2  59.6  0.7888 2004-03-10 22:00:00    22"
      ]
     },
     "execution_count": 21,
     "metadata": {},
     "output_type": "execute_result"
    }
   ],
   "source": [
    "data_air.head()"
   ]
  },
  {
   "cell_type": "code",
   "execution_count": 22,
   "metadata": {},
   "outputs": [],
   "source": [
    "data_air['year'] = data_air['Date_Time'].dt.year\n",
    "data_air['month'] = data_air['Date_Time'].dt.month\n",
    "data_air['day'] = data_air['Date_Time'].dt.day\n",
    "data_air['weekday'] = data_air['Date_Time'].dt.weekday"
   ]
  },
  {
   "cell_type": "code",
   "execution_count": 23,
   "metadata": {},
   "outputs": [
    {
     "data": {
      "text/html": [
       "<div>\n",
       "<style scoped>\n",
       "    .dataframe tbody tr th:only-of-type {\n",
       "        vertical-align: middle;\n",
       "    }\n",
       "\n",
       "    .dataframe tbody tr th {\n",
       "        vertical-align: top;\n",
       "    }\n",
       "\n",
       "    .dataframe thead th {\n",
       "        text-align: right;\n",
       "    }\n",
       "</style>\n",
       "<table border=\"1\" class=\"dataframe\">\n",
       "  <thead>\n",
       "    <tr style=\"text-align: right;\">\n",
       "      <th></th>\n",
       "      <th>Date</th>\n",
       "      <th>Time</th>\n",
       "      <th>T</th>\n",
       "      <th>RH</th>\n",
       "      <th>AH</th>\n",
       "      <th>Date_Time</th>\n",
       "      <th>hour</th>\n",
       "      <th>year</th>\n",
       "      <th>month</th>\n",
       "      <th>day</th>\n",
       "      <th>weekday</th>\n",
       "    </tr>\n",
       "  </thead>\n",
       "  <tbody>\n",
       "    <tr>\n",
       "      <th>0</th>\n",
       "      <td>10/03/2004</td>\n",
       "      <td>18.00.00</td>\n",
       "      <td>13.6</td>\n",
       "      <td>48.9</td>\n",
       "      <td>0.7578</td>\n",
       "      <td>2004-03-10 18:00:00</td>\n",
       "      <td>18</td>\n",
       "      <td>2004</td>\n",
       "      <td>3</td>\n",
       "      <td>10</td>\n",
       "      <td>2</td>\n",
       "    </tr>\n",
       "    <tr>\n",
       "      <th>1</th>\n",
       "      <td>10/03/2004</td>\n",
       "      <td>19.00.00</td>\n",
       "      <td>13.3</td>\n",
       "      <td>47.7</td>\n",
       "      <td>0.7255</td>\n",
       "      <td>2004-03-10 19:00:00</td>\n",
       "      <td>19</td>\n",
       "      <td>2004</td>\n",
       "      <td>3</td>\n",
       "      <td>10</td>\n",
       "      <td>2</td>\n",
       "    </tr>\n",
       "    <tr>\n",
       "      <th>2</th>\n",
       "      <td>10/03/2004</td>\n",
       "      <td>20.00.00</td>\n",
       "      <td>11.9</td>\n",
       "      <td>54.0</td>\n",
       "      <td>0.7502</td>\n",
       "      <td>2004-03-10 20:00:00</td>\n",
       "      <td>20</td>\n",
       "      <td>2004</td>\n",
       "      <td>3</td>\n",
       "      <td>10</td>\n",
       "      <td>2</td>\n",
       "    </tr>\n",
       "    <tr>\n",
       "      <th>3</th>\n",
       "      <td>10/03/2004</td>\n",
       "      <td>21.00.00</td>\n",
       "      <td>11.0</td>\n",
       "      <td>60.0</td>\n",
       "      <td>0.7867</td>\n",
       "      <td>2004-03-10 21:00:00</td>\n",
       "      <td>21</td>\n",
       "      <td>2004</td>\n",
       "      <td>3</td>\n",
       "      <td>10</td>\n",
       "      <td>2</td>\n",
       "    </tr>\n",
       "    <tr>\n",
       "      <th>4</th>\n",
       "      <td>10/03/2004</td>\n",
       "      <td>22.00.00</td>\n",
       "      <td>11.2</td>\n",
       "      <td>59.6</td>\n",
       "      <td>0.7888</td>\n",
       "      <td>2004-03-10 22:00:00</td>\n",
       "      <td>22</td>\n",
       "      <td>2004</td>\n",
       "      <td>3</td>\n",
       "      <td>10</td>\n",
       "      <td>2</td>\n",
       "    </tr>\n",
       "  </tbody>\n",
       "</table>\n",
       "</div>"
      ],
      "text/plain": [
       "         Date      Time     T    RH      AH           Date_Time  hour  year  \\\n",
       "0  10/03/2004  18.00.00  13.6  48.9  0.7578 2004-03-10 18:00:00    18  2004   \n",
       "1  10/03/2004  19.00.00  13.3  47.7  0.7255 2004-03-10 19:00:00    19  2004   \n",
       "2  10/03/2004  20.00.00  11.9  54.0  0.7502 2004-03-10 20:00:00    20  2004   \n",
       "3  10/03/2004  21.00.00  11.0  60.0  0.7867 2004-03-10 21:00:00    21  2004   \n",
       "4  10/03/2004  22.00.00  11.2  59.6  0.7888 2004-03-10 22:00:00    22  2004   \n",
       "\n",
       "   month  day  weekday  \n",
       "0      3   10        2  \n",
       "1      3   10        2  \n",
       "2      3   10        2  \n",
       "3      3   10        2  \n",
       "4      3   10        2  "
      ]
     },
     "execution_count": 23,
     "metadata": {},
     "output_type": "execute_result"
    }
   ],
   "source": [
    "data_air.head()"
   ]
  },
  {
   "cell_type": "code",
   "execution_count": 18,
   "metadata": {},
   "outputs": [],
   "source": [
    "data_air['hour_4cut'] = pd.cut(data_air['hour'], 4, labels=['night', 'morning', 'afternoon', 'evening'])"
   ]
  },
  {
   "cell_type": "code",
   "execution_count": 19,
   "metadata": {},
   "outputs": [
    {
     "data": {
      "text/html": [
       "<div>\n",
       "<style scoped>\n",
       "    .dataframe tbody tr th:only-of-type {\n",
       "        vertical-align: middle;\n",
       "    }\n",
       "\n",
       "    .dataframe tbody tr th {\n",
       "        vertical-align: top;\n",
       "    }\n",
       "\n",
       "    .dataframe thead th {\n",
       "        text-align: right;\n",
       "    }\n",
       "</style>\n",
       "<table border=\"1\" class=\"dataframe\">\n",
       "  <thead>\n",
       "    <tr style=\"text-align: right;\">\n",
       "      <th></th>\n",
       "      <th>Date</th>\n",
       "      <th>Time</th>\n",
       "      <th>T</th>\n",
       "      <th>RH</th>\n",
       "      <th>AH</th>\n",
       "      <th>Date_Time</th>\n",
       "      <th>hour</th>\n",
       "      <th>year</th>\n",
       "      <th>month</th>\n",
       "      <th>day</th>\n",
       "      <th>weekday</th>\n",
       "      <th>hour_4cut</th>\n",
       "    </tr>\n",
       "  </thead>\n",
       "  <tbody>\n",
       "    <tr>\n",
       "      <th>0</th>\n",
       "      <td>10/03/2004</td>\n",
       "      <td>18.00.00</td>\n",
       "      <td>13.6</td>\n",
       "      <td>48.9</td>\n",
       "      <td>0.7578</td>\n",
       "      <td>2004-03-10 18:00:00</td>\n",
       "      <td>18</td>\n",
       "      <td>2004</td>\n",
       "      <td>3</td>\n",
       "      <td>10</td>\n",
       "      <td>2</td>\n",
       "      <td>evening</td>\n",
       "    </tr>\n",
       "    <tr>\n",
       "      <th>1</th>\n",
       "      <td>10/03/2004</td>\n",
       "      <td>19.00.00</td>\n",
       "      <td>13.3</td>\n",
       "      <td>47.7</td>\n",
       "      <td>0.7255</td>\n",
       "      <td>2004-03-10 19:00:00</td>\n",
       "      <td>19</td>\n",
       "      <td>2004</td>\n",
       "      <td>3</td>\n",
       "      <td>10</td>\n",
       "      <td>2</td>\n",
       "      <td>evening</td>\n",
       "    </tr>\n",
       "    <tr>\n",
       "      <th>2</th>\n",
       "      <td>10/03/2004</td>\n",
       "      <td>20.00.00</td>\n",
       "      <td>11.9</td>\n",
       "      <td>54.0</td>\n",
       "      <td>0.7502</td>\n",
       "      <td>2004-03-10 20:00:00</td>\n",
       "      <td>20</td>\n",
       "      <td>2004</td>\n",
       "      <td>3</td>\n",
       "      <td>10</td>\n",
       "      <td>2</td>\n",
       "      <td>evening</td>\n",
       "    </tr>\n",
       "    <tr>\n",
       "      <th>3</th>\n",
       "      <td>10/03/2004</td>\n",
       "      <td>21.00.00</td>\n",
       "      <td>11.0</td>\n",
       "      <td>60.0</td>\n",
       "      <td>0.7867</td>\n",
       "      <td>2004-03-10 21:00:00</td>\n",
       "      <td>21</td>\n",
       "      <td>2004</td>\n",
       "      <td>3</td>\n",
       "      <td>10</td>\n",
       "      <td>2</td>\n",
       "      <td>evening</td>\n",
       "    </tr>\n",
       "    <tr>\n",
       "      <th>4</th>\n",
       "      <td>10/03/2004</td>\n",
       "      <td>22.00.00</td>\n",
       "      <td>11.2</td>\n",
       "      <td>59.6</td>\n",
       "      <td>0.7888</td>\n",
       "      <td>2004-03-10 22:00:00</td>\n",
       "      <td>22</td>\n",
       "      <td>2004</td>\n",
       "      <td>3</td>\n",
       "      <td>10</td>\n",
       "      <td>2</td>\n",
       "      <td>evening</td>\n",
       "    </tr>\n",
       "  </tbody>\n",
       "</table>\n",
       "</div>"
      ],
      "text/plain": [
       "         Date      Time     T    RH      AH           Date_Time  hour  year  \\\n",
       "0  10/03/2004  18.00.00  13.6  48.9  0.7578 2004-03-10 18:00:00    18  2004   \n",
       "1  10/03/2004  19.00.00  13.3  47.7  0.7255 2004-03-10 19:00:00    19  2004   \n",
       "2  10/03/2004  20.00.00  11.9  54.0  0.7502 2004-03-10 20:00:00    20  2004   \n",
       "3  10/03/2004  21.00.00  11.0  60.0  0.7867 2004-03-10 21:00:00    21  2004   \n",
       "4  10/03/2004  22.00.00  11.2  59.6  0.7888 2004-03-10 22:00:00    22  2004   \n",
       "\n",
       "   month  day  weekday hour_4cut  \n",
       "0      3   10        2   evening  \n",
       "1      3   10        2   evening  \n",
       "2      3   10        2   evening  \n",
       "3      3   10        2   evening  \n",
       "4      3   10        2   evening  "
      ]
     },
     "execution_count": 19,
     "metadata": {},
     "output_type": "execute_result"
    }
   ],
   "source": [
    "data_air.head()"
   ]
  },
  {
   "cell_type": "code",
   "execution_count": 20,
   "metadata": {},
   "outputs": [],
   "source": [
    "air_byhour_4cut = data_air.groupby(['weekday', 'hour_4cut'])"
   ]
  },
  {
   "cell_type": "code",
   "execution_count": 239,
   "metadata": {},
   "outputs": [
    {
     "data": {
      "text/html": [
       "<div>\n",
       "<style scoped>\n",
       "    .dataframe tbody tr th:only-of-type {\n",
       "        vertical-align: middle;\n",
       "    }\n",
       "\n",
       "    .dataframe tbody tr th {\n",
       "        vertical-align: top;\n",
       "    }\n",
       "\n",
       "    .dataframe thead tr th {\n",
       "        text-align: left;\n",
       "    }\n",
       "\n",
       "    .dataframe thead tr:last-of-type th {\n",
       "        text-align: right;\n",
       "    }\n",
       "</style>\n",
       "<table border=\"1\" class=\"dataframe\">\n",
       "  <thead>\n",
       "    <tr>\n",
       "      <th></th>\n",
       "      <th></th>\n",
       "      <th colspan=\"2\" halign=\"left\">T</th>\n",
       "      <th colspan=\"2\" halign=\"left\">RH</th>\n",
       "      <th colspan=\"2\" halign=\"left\">AH</th>\n",
       "    </tr>\n",
       "    <tr>\n",
       "      <th></th>\n",
       "      <th></th>\n",
       "      <th>mean</th>\n",
       "      <th>std</th>\n",
       "      <th>mean</th>\n",
       "      <th>std</th>\n",
       "      <th>mean</th>\n",
       "      <th>std</th>\n",
       "    </tr>\n",
       "    <tr>\n",
       "      <th>weekday</th>\n",
       "      <th>hour_4cut</th>\n",
       "      <th></th>\n",
       "      <th></th>\n",
       "      <th></th>\n",
       "      <th></th>\n",
       "      <th></th>\n",
       "      <th></th>\n",
       "    </tr>\n",
       "  </thead>\n",
       "  <tbody>\n",
       "    <tr>\n",
       "      <th rowspan=\"4\" valign=\"top\">0</th>\n",
       "      <th>night</th>\n",
       "      <td>8.560417</td>\n",
       "      <td>37.149948</td>\n",
       "      <td>49.328274</td>\n",
       "      <td>45.671654</td>\n",
       "      <td>-4.969336</td>\n",
       "      <td>34.211403</td>\n",
       "    </tr>\n",
       "    <tr>\n",
       "      <th>morning</th>\n",
       "      <td>12.946726</td>\n",
       "      <td>29.775933</td>\n",
       "      <td>46.394940</td>\n",
       "      <td>36.515607</td>\n",
       "      <td>-2.594567</td>\n",
       "      <td>26.660788</td>\n",
       "    </tr>\n",
       "    <tr>\n",
       "      <th>afternoon</th>\n",
       "      <td>16.946847</td>\n",
       "      <td>35.359127</td>\n",
       "      <td>30.296997</td>\n",
       "      <td>39.462263</td>\n",
       "      <td>-3.883023</td>\n",
       "      <td>30.818108</td>\n",
       "    </tr>\n",
       "    <tr>\n",
       "      <th>evening</th>\n",
       "      <td>12.748182</td>\n",
       "      <td>34.546585</td>\n",
       "      <td>40.380606</td>\n",
       "      <td>40.823595</td>\n",
       "      <td>-3.890700</td>\n",
       "      <td>30.960601</td>\n",
       "    </tr>\n",
       "    <tr>\n",
       "      <th rowspan=\"4\" valign=\"top\">1</th>\n",
       "      <th>night</th>\n",
       "      <td>10.911818</td>\n",
       "      <td>29.606657</td>\n",
       "      <td>52.523030</td>\n",
       "      <td>37.238134</td>\n",
       "      <td>-2.642614</td>\n",
       "      <td>26.900699</td>\n",
       "    </tr>\n",
       "    <tr>\n",
       "      <th>morning</th>\n",
       "      <td>12.613636</td>\n",
       "      <td>30.162164</td>\n",
       "      <td>47.876970</td>\n",
       "      <td>37.370683</td>\n",
       "      <td>-2.648427</td>\n",
       "      <td>26.899831</td>\n",
       "    </tr>\n",
       "    <tr>\n",
       "      <th>afternoon</th>\n",
       "      <td>17.731515</td>\n",
       "      <td>35.769710</td>\n",
       "      <td>29.989394</td>\n",
       "      <td>39.643012</td>\n",
       "      <td>-3.898698</td>\n",
       "      <td>30.959348</td>\n",
       "    </tr>\n",
       "    <tr>\n",
       "      <th>evening</th>\n",
       "      <td>2.911212</td>\n",
       "      <td>57.512109</td>\n",
       "      <td>30.868485</td>\n",
       "      <td>66.769626</td>\n",
       "      <td>-13.555885</td>\n",
       "      <td>52.295689</td>\n",
       "    </tr>\n",
       "    <tr>\n",
       "      <th rowspan=\"4\" valign=\"top\">2</th>\n",
       "      <th>night</th>\n",
       "      <td>-1.210606</td>\n",
       "      <td>57.417294</td>\n",
       "      <td>39.555152</td>\n",
       "      <td>69.894083</td>\n",
       "      <td>-14.169472</td>\n",
       "      <td>53.285454</td>\n",
       "    </tr>\n",
       "    <tr>\n",
       "      <th>morning</th>\n",
       "      <td>3.680000</td>\n",
       "      <td>52.506222</td>\n",
       "      <td>39.236061</td>\n",
       "      <td>62.749085</td>\n",
       "      <td>-11.126616</td>\n",
       "      <td>48.048387</td>\n",
       "    </tr>\n",
       "    <tr>\n",
       "      <th>afternoon</th>\n",
       "      <td>11.072121</td>\n",
       "      <td>51.750210</td>\n",
       "      <td>25.091818</td>\n",
       "      <td>57.028147</td>\n",
       "      <td>-9.945538</td>\n",
       "      <td>45.720673</td>\n",
       "    </tr>\n",
       "    <tr>\n",
       "      <th>evening</th>\n",
       "      <td>11.073810</td>\n",
       "      <td>41.552852</td>\n",
       "      <td>39.775893</td>\n",
       "      <td>48.898722</td>\n",
       "      <td>-6.123480</td>\n",
       "      <td>37.369320</td>\n",
       "    </tr>\n",
       "    <tr>\n",
       "      <th rowspan=\"4\" valign=\"top\">3</th>\n",
       "      <th>night</th>\n",
       "      <td>7.573214</td>\n",
       "      <td>40.630535</td>\n",
       "      <td>49.642857</td>\n",
       "      <td>49.784139</td>\n",
       "      <td>-6.118334</td>\n",
       "      <td>37.370443</td>\n",
       "    </tr>\n",
       "    <tr>\n",
       "      <th>morning</th>\n",
       "      <td>5.315476</td>\n",
       "      <td>49.604721</td>\n",
       "      <td>40.133333</td>\n",
       "      <td>59.054008</td>\n",
       "      <td>-9.720195</td>\n",
       "      <td>45.339768</td>\n",
       "    </tr>\n",
       "    <tr>\n",
       "      <th>afternoon</th>\n",
       "      <td>9.389583</td>\n",
       "      <td>55.000756</td>\n",
       "      <td>23.332143</td>\n",
       "      <td>60.069519</td>\n",
       "      <td>-11.530443</td>\n",
       "      <td>48.736635</td>\n",
       "    </tr>\n",
       "    <tr>\n",
       "      <th>evening</th>\n",
       "      <td>6.620536</td>\n",
       "      <td>51.298823</td>\n",
       "      <td>35.233036</td>\n",
       "      <td>59.688949</td>\n",
       "      <td>-10.289001</td>\n",
       "      <td>46.516060</td>\n",
       "    </tr>\n",
       "  </tbody>\n",
       "</table>\n",
       "</div>"
      ],
      "text/plain": [
       "                           T                    RH                    AH  \\\n",
       "                        mean        std       mean        std       mean   \n",
       "weekday hour_4cut                                                          \n",
       "0       night       8.560417  37.149948  49.328274  45.671654  -4.969336   \n",
       "        morning    12.946726  29.775933  46.394940  36.515607  -2.594567   \n",
       "        afternoon  16.946847  35.359127  30.296997  39.462263  -3.883023   \n",
       "        evening    12.748182  34.546585  40.380606  40.823595  -3.890700   \n",
       "1       night      10.911818  29.606657  52.523030  37.238134  -2.642614   \n",
       "        morning    12.613636  30.162164  47.876970  37.370683  -2.648427   \n",
       "        afternoon  17.731515  35.769710  29.989394  39.643012  -3.898698   \n",
       "        evening     2.911212  57.512109  30.868485  66.769626 -13.555885   \n",
       "2       night      -1.210606  57.417294  39.555152  69.894083 -14.169472   \n",
       "        morning     3.680000  52.506222  39.236061  62.749085 -11.126616   \n",
       "        afternoon  11.072121  51.750210  25.091818  57.028147  -9.945538   \n",
       "        evening    11.073810  41.552852  39.775893  48.898722  -6.123480   \n",
       "3       night       7.573214  40.630535  49.642857  49.784139  -6.118334   \n",
       "        morning     5.315476  49.604721  40.133333  59.054008  -9.720195   \n",
       "        afternoon   9.389583  55.000756  23.332143  60.069519 -11.530443   \n",
       "        evening     6.620536  51.298823  35.233036  59.688949 -10.289001   \n",
       "\n",
       "                              \n",
       "                         std  \n",
       "weekday hour_4cut             \n",
       "0       night      34.211403  \n",
       "        morning    26.660788  \n",
       "        afternoon  30.818108  \n",
       "        evening    30.960601  \n",
       "1       night      26.900699  \n",
       "        morning    26.899831  \n",
       "        afternoon  30.959348  \n",
       "        evening    52.295689  \n",
       "2       night      53.285454  \n",
       "        morning    48.048387  \n",
       "        afternoon  45.720673  \n",
       "        evening    37.369320  \n",
       "3       night      37.370443  \n",
       "        morning    45.339768  \n",
       "        afternoon  48.736635  \n",
       "        evening    46.516060  "
      ]
     },
     "execution_count": 239,
     "metadata": {},
     "output_type": "execute_result"
    }
   ],
   "source": [
    "air_byhour_4cut.agg(['mean', 'std'])[['T', 'RH', 'AH']].head(16)"
   ]
  },
  {
   "cell_type": "code",
   "execution_count": 233,
   "metadata": {},
   "outputs": [],
   "source": [
    "air_bymonth = data_air.groupby(['month', 'weekday'])"
   ]
  },
  {
   "cell_type": "code",
   "execution_count": 237,
   "metadata": {},
   "outputs": [
    {
     "data": {
      "text/html": [
       "<div>\n",
       "<style scoped>\n",
       "    .dataframe tbody tr th:only-of-type {\n",
       "        vertical-align: middle;\n",
       "    }\n",
       "\n",
       "    .dataframe tbody tr th {\n",
       "        vertical-align: top;\n",
       "    }\n",
       "\n",
       "    .dataframe thead th {\n",
       "        text-align: right;\n",
       "    }\n",
       "</style>\n",
       "<table border=\"1\" class=\"dataframe\">\n",
       "  <thead>\n",
       "    <tr style=\"text-align: right;\">\n",
       "      <th></th>\n",
       "      <th></th>\n",
       "      <th>T</th>\n",
       "      <th>RH</th>\n",
       "      <th>AH</th>\n",
       "    </tr>\n",
       "    <tr>\n",
       "      <th>month</th>\n",
       "      <th>weekday</th>\n",
       "      <th></th>\n",
       "      <th></th>\n",
       "      <th></th>\n",
       "    </tr>\n",
       "  </thead>\n",
       "  <tbody>\n",
       "    <tr>\n",
       "      <th rowspan=\"7\" valign=\"top\">1</th>\n",
       "      <th>0</th>\n",
       "      <td>14.4</td>\n",
       "      <td>80.4</td>\n",
       "      <td>1.0567</td>\n",
       "    </tr>\n",
       "    <tr>\n",
       "      <th>1</th>\n",
       "      <td>13.8</td>\n",
       "      <td>83.0</td>\n",
       "      <td>1.0087</td>\n",
       "    </tr>\n",
       "    <tr>\n",
       "      <th>2</th>\n",
       "      <td>15.8</td>\n",
       "      <td>83.8</td>\n",
       "      <td>0.9972</td>\n",
       "    </tr>\n",
       "    <tr>\n",
       "      <th>3</th>\n",
       "      <td>16.5</td>\n",
       "      <td>82.1</td>\n",
       "      <td>0.9687</td>\n",
       "    </tr>\n",
       "    <tr>\n",
       "      <th>4</th>\n",
       "      <td>13.5</td>\n",
       "      <td>83.8</td>\n",
       "      <td>0.8706</td>\n",
       "    </tr>\n",
       "    <tr>\n",
       "      <th>5</th>\n",
       "      <td>15.8</td>\n",
       "      <td>86.6</td>\n",
       "      <td>0.9681</td>\n",
       "    </tr>\n",
       "    <tr>\n",
       "      <th>6</th>\n",
       "      <td>16.9</td>\n",
       "      <td>78.2</td>\n",
       "      <td>0.9826</td>\n",
       "    </tr>\n",
       "    <tr>\n",
       "      <th rowspan=\"7\" valign=\"top\">2</th>\n",
       "      <th>0</th>\n",
       "      <td>13.7</td>\n",
       "      <td>84.3</td>\n",
       "      <td>0.7425</td>\n",
       "    </tr>\n",
       "    <tr>\n",
       "      <th>1</th>\n",
       "      <td>13.9</td>\n",
       "      <td>86.6</td>\n",
       "      <td>0.7165</td>\n",
       "    </tr>\n",
       "    <tr>\n",
       "      <th>2</th>\n",
       "      <td>14.5</td>\n",
       "      <td>83.9</td>\n",
       "      <td>0.6875</td>\n",
       "    </tr>\n",
       "    <tr>\n",
       "      <th>3</th>\n",
       "      <td>15.7</td>\n",
       "      <td>85.3</td>\n",
       "      <td>0.7519</td>\n",
       "    </tr>\n",
       "    <tr>\n",
       "      <th>4</th>\n",
       "      <td>15.0</td>\n",
       "      <td>84.1</td>\n",
       "      <td>0.7530</td>\n",
       "    </tr>\n",
       "    <tr>\n",
       "      <th>5</th>\n",
       "      <td>13.8</td>\n",
       "      <td>75.1</td>\n",
       "      <td>0.7506</td>\n",
       "    </tr>\n",
       "    <tr>\n",
       "      <th>6</th>\n",
       "      <td>19.9</td>\n",
       "      <td>85.0</td>\n",
       "      <td>1.0859</td>\n",
       "    </tr>\n",
       "  </tbody>\n",
       "</table>\n",
       "</div>"
      ],
      "text/plain": [
       "                  T    RH      AH\n",
       "month weekday                    \n",
       "1     0        14.4  80.4  1.0567\n",
       "      1        13.8  83.0  1.0087\n",
       "      2        15.8  83.8  0.9972\n",
       "      3        16.5  82.1  0.9687\n",
       "      4        13.5  83.8  0.8706\n",
       "      5        15.8  86.6  0.9681\n",
       "      6        16.9  78.2  0.9826\n",
       "2     0        13.7  84.3  0.7425\n",
       "      1        13.9  86.6  0.7165\n",
       "      2        14.5  83.9  0.6875\n",
       "      3        15.7  85.3  0.7519\n",
       "      4        15.0  84.1  0.7530\n",
       "      5        13.8  75.1  0.7506\n",
       "      6        19.9  85.0  1.0859"
      ]
     },
     "execution_count": 237,
     "metadata": {},
     "output_type": "execute_result"
    }
   ],
   "source": [
    "air_bymonth.agg({'T' : 'max', 'RH' : 'max', 'AH' : 'max'}).head(14)"
   ]
  },
  {
   "cell_type": "code",
   "execution_count": null,
   "metadata": {},
   "outputs": [],
   "source": []
  }
 ],
 "metadata": {
  "kernelspec": {
   "display_name": "Python 3",
   "language": "python",
   "name": "python3"
  },
  "language_info": {
   "codemirror_mode": {
    "name": "ipython",
    "version": 3
   },
   "file_extension": ".py",
   "mimetype": "text/x-python",
   "name": "python",
   "nbconvert_exporter": "python",
   "pygments_lexer": "ipython3",
   "version": "3.8.3"
  },
  "toc": {
   "base_numbering": 1,
   "nav_menu": {},
   "number_sections": true,
   "sideBar": true,
   "skip_h1_title": false,
   "title_cell": "Table of Contents",
   "title_sidebar": "Contents",
   "toc_cell": false,
   "toc_position": {},
   "toc_section_display": true,
   "toc_window_display": false
  },
  "varInspector": {
   "cols": {
    "lenName": 16,
    "lenType": 16,
    "lenVar": 40
   },
   "kernels_config": {
    "python": {
     "delete_cmd_postfix": "",
     "delete_cmd_prefix": "del ",
     "library": "var_list.py",
     "varRefreshCmd": "print(var_dic_list())"
    },
    "r": {
     "delete_cmd_postfix": ") ",
     "delete_cmd_prefix": "rm(",
     "library": "var_list.r",
     "varRefreshCmd": "cat(var_dic_list()) "
    }
   },
   "types_to_exclude": [
    "module",
    "function",
    "builtin_function_or_method",
    "instance",
    "_Feature"
   ],
   "window_display": false
  }
 },
 "nbformat": 4,
 "nbformat_minor": 4
}
